{
 "cells": [
  {
   "cell_type": "markdown",
   "metadata": {},
   "source": [
    "## Setup PySpark"
   ]
  },
  {
   "cell_type": "code",
   "execution_count": 3,
   "metadata": {},
   "outputs": [],
   "source": [
    "from pyspark.sql import SparkSession\n",
    "from pyspark.sql.functions import col, unix_timestamp, lag, when, avg, to_timestamp\n",
    "from pyspark.sql.window import Window\n",
    "from pyspark.ml.feature import VectorAssembler\n",
    "from pyspark.ml.classification import RandomForestClassifier"
   ]
  },
  {
   "cell_type": "markdown",
   "metadata": {},
   "source": [
    "## Init Spark"
   ]
  },
  {
   "cell_type": "code",
   "execution_count": 4,
   "metadata": {},
   "outputs": [
    {
     "name": "stderr",
     "output_type": "stream",
     "text": [
      "Setting default log level to \"WARN\".\n",
      "To adjust logging level use sc.setLogLevel(newLevel). For SparkR, use setLogLevel(newLevel).\n",
      "25/01/30 16:14:38 WARN NativeCodeLoader: Unable to load native-hadoop library for your platform... using builtin-java classes where applicable\n"
     ]
    }
   ],
   "source": [
    "spark = SparkSession.builder.appName(\"CryptoTradingBot\").getOrCreate()"
   ]
  },
  {
   "cell_type": "markdown",
   "metadata": {},
   "source": [
    "## Load Data"
   ]
  },
  {
   "cell_type": "code",
   "execution_count": 5,
   "metadata": {},
   "outputs": [
    {
     "name": "stderr",
     "output_type": "stream",
     "text": [
      "                                                                                \r"
     ]
    },
    {
     "data": {
      "text/plain": [
       "Row(price='95146.52000000', symbol='btcusdt', time='2024-12-29T11:42:13.653000')"
      ]
     },
     "execution_count": 5,
     "metadata": {},
     "output_type": "execute_result"
    }
   ],
   "source": [
    "from elasticsearch import Elasticsearch\n",
    "\n",
    "es = Elasticsearch(hosts=[\"http://localhost:9200\"])\n",
    "\n",
    "response = es.search(index=\"historical\", body={\n",
    "    \"query\": {\n",
    "        \"match_all\": {}\n",
    "    },\n",
    "    \"size\": 1000  \n",
    "})\n",
    "\n",
    "data = [hit[\"_source\"] for hit in response[\"hits\"][\"hits\"]]\n",
    "\n",
    "spark = SparkSession.builder.appName(\"CryptoTradingBot\").getOrCreate()\n",
    "\n",
    "training_df = spark.createDataFrame(data)\n",
    "\n",
    "training_df.head()"
   ]
  },
  {
   "cell_type": "code",
   "execution_count": 6,
   "metadata": {},
   "outputs": [
    {
     "name": "stdout",
     "output_type": "stream",
     "text": [
      "root\n",
      " |-- price: string (nullable = true)\n",
      " |-- symbol: string (nullable = true)\n",
      " |-- time: string (nullable = true)\n",
      "\n"
     ]
    }
   ],
   "source": [
    "training_df.printSchema()"
   ]
  },
  {
   "cell_type": "markdown",
   "metadata": {},
   "source": [
    "## Convert Data"
   ]
  },
  {
   "cell_type": "code",
   "execution_count": null,
   "metadata": {},
   "outputs": [],
   "source": [
    "training_df = training_df.withColumn(\"time\", to_timestamp(col(\"time\")))\n",
    "\n",
    "training_df = training_df.withColumn(\"time_numeric\", unix_timestamp(col(\"time\")))\n",
    "\n",
    "training_df = training_df.withColumn(\"price\", col(\"price\").cast(\"double\"))\n",
    "\n",
    "training_df.head(2)"
   ]
  },
  {
   "cell_type": "code",
   "execution_count": null,
   "metadata": {},
   "outputs": [],
   "source": [
    "training_df.printSchema()"
   ]
  },
  {
   "cell_type": "code",
   "execution_count": null,
   "metadata": {},
   "outputs": [],
   "source": [
    "training_df = training_df.withColumn(\"time_numeric\", unix_timestamp(col(\"time\")))\n",
    "\n",
    "\n",
    "window_spec = Window.orderBy(\"time_numeric\")\n",
    "training_df = training_df.withColumn(\"prev_price\", lag(\"price\", 1).over(window_spec))\n",
    "#training_df = training_df.withColumn(\"prev_volume\", lag(\"volume\", 1).over(window_spec))\n",
    "\n",
    "\n",
    "training_df = training_df.withColumn(\"ma_price\", avg(\"price\").over(Window.orderBy(\"time_numeric\").rowsBetween(-2, 0)))\n",
    "\n",
    "\n",
    "training_df = training_df.withColumn(\"label\", when(col(\"price\") > col(\"prev_price\"), 1).otherwise(0))\n",
    "\n",
    "# Remove null values\n",
    "training_df = training_df.na.drop()\n",
    "\n",
    "\n",
    "assembler = VectorAssembler(inputCols=[\"time_numeric\", \"prev_price\", \"prev_volume\", \"ma_price\"], outputCol=\"features\")\n",
    "training_df = assembler.transform(training_df).select(\"features\", \"label\")\n",
    "\n",
    "\n",
    "rf = RandomForestClassifier(featuresCol=\"features\", labelCol=\"label\", numTrees=100)\n",
    "model = rf.fit(training_df)\n",
    "\n",
    "# Predict Buy/Hold Decision\n",
    "predictions = model.transform(training_df)\n",
    "predictions.select(\"features\", \"label\", \"prediction\").show()"
   ]
  },
  {
   "cell_type": "code",
   "execution_count": null,
   "metadata": {},
   "outputs": [],
   "source": [
    "# Sell if profit > 5% or loss > 2%\n",
    "take_profit = 0.05\n",
    "stop_loss = 0.02\n",
    "\n",
    "training_df = training_df.withColumn(\n",
    "    \"sell_signal\",\n",
    "    when((col(\"price\") > col(\"prev_price\") * (1 + take_profit)), \"SELL\")\n",
    "    .when((col(\"price\") < col(\"prev_price\") * (1 - stop_loss)), \"SELL\")\n",
    "    .otherwise(\"HOLD\")\n",
    ")\n",
    "\n",
    "training_df.select(\"time\", \"price\", \"sell_signal\").show()"
   ]
  },
  {
   "cell_type": "code",
   "execution_count": 7,
   "metadata": {},
   "outputs": [],
   "source": [
    "spark.stop()"
   ]
  },
  {
   "cell_type": "code",
   "execution_count": null,
   "metadata": {},
   "outputs": [],
   "source": []
  }
 ],
 "metadata": {
  "kernelspec": {
   "display_name": "Python 3 (ipykernel)",
   "language": "python",
   "name": "python3"
  },
  "language_info": {
   "codemirror_mode": {
    "name": "ipython",
    "version": 3
   },
   "file_extension": ".py",
   "mimetype": "text/x-python",
   "name": "python",
   "nbconvert_exporter": "python",
   "pygments_lexer": "ipython3",
   "version": "3.8.10"
  }
 },
 "nbformat": 4,
 "nbformat_minor": 2
}
