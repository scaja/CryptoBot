{
 "cells": [
  {
   "cell_type": "markdown",
   "metadata": {},
   "source": [
    "## start session"
   ]
  },
  {
   "cell_type": "code",
   "execution_count": 5,
   "metadata": {},
   "outputs": [
    {
     "name": "stderr",
     "output_type": "stream",
     "text": [
      "25/01/29 09:24:47 WARN SparkSession: Using an existing Spark session; only runtime SQL configurations will take effect.\n"
     ]
    }
   ],
   "source": [
    "from pyspark.sql import SparkSession\n",
    "spark=SparkSession.builder.appName('Elasticsearch to Pyspark').getOrCreate()"
   ]
  },
  {
   "cell_type": "code",
   "execution_count": 6,
   "metadata": {},
   "outputs": [],
   "source": [
    "from elasticsearch import Elasticsearch\n",
    "\n",
    "es = Elasticsearch(hosts=[\"http://localhost:9200\"])\n",
    "\n",
    "response = es.search(index=\"historical\", body={\n",
    "    \"query\": {\n",
    "        \"match_all\": {}\n",
    "    },\n",
    "    \"size\": 1000  \n",
    "})\n",
    "\n",
    "data = [hit[\"_source\"] for hit in response[\"hits\"][\"hits\"]]"
   ]
  },
  {
   "cell_type": "code",
   "execution_count": 9,
   "metadata": {},
   "outputs": [],
   "source": [
    "from pyspark.sql import SparkSession\n",
    "\n",
    "# Spark Session erstellen\n",
    "spark = SparkSession.builder.appName(\"Elasticsearch to PySpark\").getOrCreate()\n",
    "\n",
    "training_df = spark.createDataFrame(data)\n",
    "\n",
    "\n",
    "#from pyspark.ml.feature import VectorAssembler\n",
    "#assembler = VectorAssembler(inputCols=[\"feature1\", \"feature2\"], outputCol=\"features\")\n",
    "#dataset = assembler.transform(df).select(\"features\", \"label\")"
   ]
  },
  {
   "cell_type": "code",
   "execution_count": 10,
   "metadata": {},
   "outputs": [
    {
     "data": {
      "text/plain": [
       "Row(price='95146.52000000', symbol='btcusdt', time='2024-12-29T11:42:13.653000')"
      ]
     },
     "execution_count": 10,
     "metadata": {},
     "output_type": "execute_result"
    }
   ],
   "source": [
    "training_df.head()"
   ]
  },
  {
   "cell_type": "markdown",
   "metadata": {},
   "source": [
    "## read data"
   ]
  },
  {
   "cell_type": "code",
   "execution_count": 20,
   "metadata": {},
   "outputs": [],
   "source": [
    "#training=spark.read.csv('/home/ubuntu/CryptoBot/regression/SalaryData.csv',  header=True, inferSchema=True, nullValue=\"NULL\")"
   ]
  },
  {
   "cell_type": "code",
   "execution_count": 11,
   "metadata": {},
   "outputs": [
    {
     "name": "stdout",
     "output_type": "stream",
     "text": [
      "+--------------+-------+--------------------+\n",
      "|         price| symbol|                time|\n",
      "+--------------+-------+--------------------+\n",
      "|95146.52000000|btcusdt|2024-12-29T11:42:...|\n",
      "|95146.52000000|btcusdt|2024-12-29T11:42:...|\n",
      "|95147.64000000|btcusdt|2024-12-29T11:42:...|\n",
      "|95147.64000000|btcusdt|2024-12-29T11:42:...|\n",
      "|95147.84000000|btcusdt|2024-12-29T11:42:...|\n",
      "|95147.86000000|btcusdt|2024-12-29T11:42:...|\n",
      "|95147.86000000|btcusdt|2024-12-29T11:42:...|\n",
      "|95147.84000000|btcusdt|2024-12-29T11:42:...|\n",
      "|95147.83000000|btcusdt|2024-12-29T11:42:...|\n",
      "|95147.63000000|btcusdt|2024-12-29T11:42:...|\n",
      "|95147.87000000|btcusdt|2024-12-29T11:42:...|\n",
      "|95147.89000000|btcusdt|2024-12-29T11:42:...|\n",
      "|95147.86000000|btcusdt|2024-12-29T11:42:...|\n",
      "|95147.82000000|btcusdt|2024-12-29T11:42:...|\n",
      "|95147.87000000|btcusdt|2024-12-29T11:43:...|\n",
      "|95147.89000000|btcusdt|2024-12-29T11:43:...|\n",
      "|95147.92000000|btcusdt|2024-12-29T11:43:...|\n",
      "|95148.75000000|btcusdt|2024-12-29T11:43:...|\n",
      "|95148.75000000|btcusdt|2024-12-29T11:43:...|\n",
      "|95148.79000000|btcusdt|2024-12-29T11:43:...|\n",
      "+--------------+-------+--------------------+\n",
      "only showing top 20 rows\n",
      "\n"
     ]
    }
   ],
   "source": [
    "training_df.show()"
   ]
  },
  {
   "cell_type": "code",
   "execution_count": 12,
   "metadata": {},
   "outputs": [
    {
     "name": "stdout",
     "output_type": "stream",
     "text": [
      "root\n",
      " |-- price: string (nullable = true)\n",
      " |-- symbol: string (nullable = true)\n",
      " |-- time: string (nullable = true)\n",
      "\n"
     ]
    }
   ],
   "source": [
    "training_df.printSchema()"
   ]
  },
  {
   "cell_type": "code",
   "execution_count": 13,
   "metadata": {},
   "outputs": [
    {
     "data": {
      "text/plain": [
       "['price', 'symbol', 'time']"
      ]
     },
     "execution_count": 13,
     "metadata": {},
     "output_type": "execute_result"
    }
   ],
   "source": [
    "training_df.columns"
   ]
  },
  {
   "cell_type": "code",
   "execution_count": 38,
   "metadata": {},
   "outputs": [],
   "source": [
    "from pyspark.sql.functions import col, to_timestamp, unix_timestamp\n",
    "\n",
    "training_df = training_df.withColumn(\"time\", to_timestamp(col(\"time\")))\n",
    "training_df = training_df.withColumn(\"time_numeric\", unix_timestamp(col(\"time\")))\n",
    "\n",
    "training_df = training_df.withColumn(\"price\", col(\"price\").cast(\"double\"))"
   ]
  },
  {
   "cell_type": "code",
   "execution_count": 39,
   "metadata": {},
   "outputs": [
    {
     "name": "stdout",
     "output_type": "stream",
     "text": [
      "+--------+-------+--------------------+------------+\n",
      "|   price| symbol|                time|time_numeric|\n",
      "+--------+-------+--------------------+------------+\n",
      "|95146.52|btcusdt|2024-12-29 11:42:...|  1735472533|\n",
      "|95146.52|btcusdt|2024-12-29 11:42:...|  1735472534|\n",
      "+--------+-------+--------------------+------------+\n",
      "only showing top 2 rows\n",
      "\n",
      "root\n",
      " |-- price: double (nullable = true)\n",
      " |-- symbol: string (nullable = true)\n",
      " |-- time: timestamp (nullable = true)\n",
      " |-- time_numeric: long (nullable = true)\n",
      "\n"
     ]
    }
   ],
   "source": [
    "training_df.show(2)\n",
    "training_df.printSchema()"
   ]
  },
  {
   "cell_type": "code",
   "execution_count": 40,
   "metadata": {},
   "outputs": [],
   "source": [
    "from pyspark.ml.feature import VectorAssembler\n",
    "featureassembler=VectorAssembler(inputCols=[\"time_numeric\"],outputCol=\"Independent Features\")\n"
   ]
  },
  {
   "cell_type": "code",
   "execution_count": 41,
   "metadata": {},
   "outputs": [],
   "source": [
    "output=featureassembler.transform(training_df)"
   ]
  },
  {
   "cell_type": "code",
   "execution_count": 42,
   "metadata": {},
   "outputs": [
    {
     "name": "stdout",
     "output_type": "stream",
     "text": [
      "+--------+-------+--------------------+------------+--------------------+\n",
      "|   price| symbol|                time|time_numeric|Independent Features|\n",
      "+--------+-------+--------------------+------------+--------------------+\n",
      "|95146.52|btcusdt|2024-12-29 11:42:...|  1735472533|     [1.735472533E9]|\n",
      "|95146.52|btcusdt|2024-12-29 11:42:...|  1735472534|     [1.735472534E9]|\n",
      "|95147.64|btcusdt|2024-12-29 11:42:...|  1735472537|     [1.735472537E9]|\n",
      "|95147.64|btcusdt|2024-12-29 11:42:...|  1735472537|     [1.735472537E9]|\n",
      "|95147.84|btcusdt|2024-12-29 11:42:...|  1735472537|     [1.735472537E9]|\n",
      "+--------+-------+--------------------+------------+--------------------+\n",
      "only showing top 5 rows\n",
      "\n"
     ]
    }
   ],
   "source": [
    "output.show(5)"
   ]
  },
  {
   "cell_type": "code",
   "execution_count": 43,
   "metadata": {},
   "outputs": [
    {
     "data": {
      "text/plain": [
       "['price', 'symbol', 'time', 'time_numeric', 'Independent Features']"
      ]
     },
     "execution_count": 43,
     "metadata": {},
     "output_type": "execute_result"
    }
   ],
   "source": [
    "output.columns"
   ]
  },
  {
   "cell_type": "code",
   "execution_count": 44,
   "metadata": {},
   "outputs": [],
   "source": [
    "finalized_data=output.select(\"Independent Features\",\"price\")"
   ]
  },
  {
   "cell_type": "code",
   "execution_count": 45,
   "metadata": {},
   "outputs": [
    {
     "name": "stderr",
     "output_type": "stream",
     "text": [
      "25/01/29 10:16:21 WARN Instrumentation: [b5239d50] regParam is zero, which might cause numerical instability and overfitting.\n",
      "25/01/29 10:16:22 WARN InstanceBuilder: Failed to load implementation from:dev.ludovic.netlib.blas.JNIBLAS\n",
      "25/01/29 10:16:22 WARN InstanceBuilder: Failed to load implementation from:dev.ludovic.netlib.lapack.JNILAPACK\n"
     ]
    }
   ],
   "source": [
    "from pyspark.ml.regression import LinearRegression\n",
    "##traintest split\n",
    "train_data,test_data=finalized_data.randomSplit([0.75,0.25])\n",
    "regressor=LinearRegression(featuresCol=\"Independent Features\",labelCol=\"price\")\n",
    "regressor=regressor.fit(train_data)\n"
   ]
  },
  {
   "cell_type": "code",
   "execution_count": 46,
   "metadata": {},
   "outputs": [
    {
     "name": "stdout",
     "output_type": "stream",
     "text": [
      "Coefficients: [-1.5883647098528668]\n",
      "Intercept: 2756659435.7723465\n"
     ]
    }
   ],
   "source": [
    "print(f\"Coefficients: {regressor.coefficients}\")\n",
    "print(f\"Intercept: {regressor.intercept}\")\n"
   ]
  },
  {
   "cell_type": "code",
   "execution_count": null,
   "metadata": {},
   "outputs": [],
   "source": [
    "regressor.save(\"regression_model\")"
   ]
  }
 ],
 "metadata": {
  "kernelspec": {
   "display_name": "Python 3 (ipykernel)",
   "language": "python",
   "name": "python3"
  },
  "language_info": {
   "codemirror_mode": {
    "name": "ipython",
    "version": 3
   },
   "file_extension": ".py",
   "mimetype": "text/x-python",
   "name": "python",
   "nbconvert_exporter": "python",
   "pygments_lexer": "ipython3",
   "version": "3.8.10"
  }
 },
 "nbformat": 4,
 "nbformat_minor": 2
}
