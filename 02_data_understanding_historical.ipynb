{
 "cells": [
  {
   "cell_type": "markdown",
   "metadata": {},
   "source": [
    "## CryptoBot - data understanding historical"
   ]
  },
  {
   "cell_type": "markdown",
   "metadata": {},
   "source": [
    "#### 1. Install Libraries"
   ]
  },
  {
   "cell_type": "markdown",
   "metadata": {},
   "source": [
    "2.1 pip install pandas </br>\n",
    "2.2 pip install python-binance </br>\n",
    "2.3 pip install python-dotenv"
   ]
  },
  {
   "cell_type": "markdown",
   "metadata": {},
   "source": [
    "#### 3. Import Libraries & API Keys"
   ]
  },
  {
   "cell_type": "code",
   "execution_count": 1,
   "metadata": {},
   "outputs": [],
   "source": [
    "import pandas as pd\n",
    "from binance import BinanceSocketManager\n",
    "from dotenv import load_dotenv\n",
    "import os\n",
    "from binance.client import Client"
   ]
  },
  {
   "cell_type": "code",
   "execution_count": 3,
   "metadata": {},
   "outputs": [],
   "source": [
    "load_dotenv()\n",
    "binance_api_key = os.getenv(\"BINANCE_API_KEY\")\n",
    "binance_api_secret = os.getenv(\"BINANCE_API_SECRET\")\n",
    "client = Client(binance_api_key, binance_api_secret, testnet=True)"
   ]
  },
  {
   "cell_type": "markdown",
   "metadata": {},
   "source": [
    "## Historical Data (Market Data Endpoint)\n",
    "###### https://binance-docs.github.io/apidocs/spot/en/#market-data-endpoints"
   ]
  },
  {
   "cell_type": "markdown",
   "metadata": {},
   "source": [
    "### 1.1 Klines based"
   ]
  },
  {
   "cell_type": "markdown",
   "metadata": {},
   "source": [
    "The data displayed in the Klines (Candlesticks) is based on the completed transactions between buyers and sellers on the Binance exchange."
   ]
  },
  {
   "cell_type": "code",
   "execution_count": 4,
   "metadata": {},
   "outputs": [],
   "source": [
    "# Get klines from market Data Endpoint\n",
    "def get_hist_klines_data(symbol, interval, start_str):\n",
    "    candles = client.get_historical_klines(\n",
    "        symbol=symbol,\n",
    "        interval=interval,\n",
    "        start_str=start_str\n",
    "    )\n",
    "    return candles\n",
    "\n",
    "# Build dataframe\n",
    "def build_klines_data_frame(candles):\n",
    "    columns = ['Open time', 'Open', 'High', 'Low', 'Close', 'Volume', 'Close time',\n",
    "            'Quote asset volume', 'Number of trades', 'Taker buy base asset volume',\n",
    "            'Taker buy quote asset volume', 'Ignore']\n",
    "    \n",
    "    df = pd.DataFrame(candles, columns=columns)\n",
    "    df['Open time'] = pd.to_datetime(df['Open time'], unit='ms')\n",
    "    df['Close time'] = pd.to_datetime(df['Close time'], unit='ms')\n",
    "    df = df[['Open time', 'Open', 'High', 'Low', 'Close', 'Volume']]\n",
    "\n",
    "    return df.tail()"
   ]
  },
  {
   "cell_type": "markdown",
   "metadata": {},
   "source": [
    "### 1.2 Trade based"
   ]
  },
  {
   "cell_type": "markdown",
   "metadata": {},
   "source": [
    "These data reflect the completed transactions where buyers and sellers have executed their orders on the platform."
   ]
  },
  {
   "cell_type": "code",
   "execution_count": 5,
   "metadata": {},
   "outputs": [],
   "source": [
    "# Get trades from Market Data Endpoint\n",
    "def get_hist_trad_data(symbol, limit):\n",
    "    \n",
    "    historical_trades = client.get_historical_trades(symbol=symbol, limit=limit)\n",
    "\n",
    "    return historical_trades\n",
    "\n",
    "# Build dataframe\n",
    "def build_trad_data_frame(historical_trades):\n",
    "\n",
    "    df = pd.DataFrame(historical_trades)\n",
    "    df['time'] = pd.to_datetime(df['time'], unit='ms')\n",
    "\n",
    "    return df.head()"
   ]
  },
  {
   "cell_type": "code",
   "execution_count": 6,
   "metadata": {},
   "outputs": [],
   "source": [
    "# print to json file\n",
    "def print_to_json_file(filename,df):\n",
    "    \n",
    "    #filename = symbol +'_historical_klines.json'\n",
    "    json_str = df.to_json(orient='records')  \n",
    "\n",
    "    with open(filename, \"w\") as file:\n",
    "        file.write(json_str)\n",
    "    print(\"Text file written!\", filename)"
   ]
  },
  {
   "cell_type": "markdown",
   "metadata": {},
   "source": [
    "### run script klines"
   ]
  },
  {
   "cell_type": "code",
   "execution_count": 34,
   "metadata": {},
   "outputs": [
    {
     "name": "stdout",
     "output_type": "stream",
     "text": [
      "Text file written! BTCUSDT_hist_klines.json\n",
      "Text file written! ETHBTC_hist_klines.json\n"
     ]
    }
   ],
   "source": [
    "# Select parameters\n",
    "symbol_array = [\"BTCUSDT\", \"ETHBTC\"] \n",
    "interval = Client.KLINE_INTERVAL_1HOUR \n",
    "start_str=\"41 days ago UTC\"\n",
    "\n",
    "for symbol in symbol_array:\n",
    "\n",
    "    filename = symbol +'_hist_klines.json'\n",
    "\n",
    "    candles = get_hist_klines_data(symbol, interval, start_str)\n",
    "    df = build_klines_data_frame(candles)\n",
    "    print_to_json_file(filename, df)"
   ]
  },
  {
   "cell_type": "markdown",
   "metadata": {},
   "source": [
    "### run script trades"
   ]
  },
  {
   "cell_type": "code",
   "execution_count": null,
   "metadata": {},
   "outputs": [
    {
     "name": "stdout",
     "output_type": "stream",
     "text": [
      "Text file written! BTCUSDT_hist_trades.json\n",
      "Text file written! ETHBTC_hist_trades.json\n"
     ]
    }
   ],
   "source": [
    "# Select parameters\n",
    "symbol_array = [\"BTCUSDT\", \"ETHBTC\"] \n",
    "limit=1000\n",
    "\n",
    "for symbol in symbol_array:\n",
    "\n",
    "    filename = symbol +'_hist_trades.json'\n",
    "\n",
    "    trades = get_hist_trad_data(symbol, limit)\n",
    "    df = build_trad_data_frame(trades)\n",
    "    print_to_json_file(filename, df)\n"
   ]
  },
  {
   "cell_type": "markdown",
   "metadata": {},
   "source": [
    "## Streaming Data (Websocket Market Endpoint)\n",
    "###### https://binance-docs.github.io/apidocs/spot/en/#websocket-market-streams"
   ]
  },
  {
   "cell_type": "code",
   "execution_count": 35,
   "metadata": {},
   "outputs": [],
   "source": [
    "import json\n",
    "import websocket\n",
    "import pandas as pd\n",
    "import threading\n",
    "import os"
   ]
  },
  {
   "cell_type": "code",
   "execution_count": 42,
   "metadata": {},
   "outputs": [],
   "source": [
    "df = pd.DataFrame()\n",
    "\n",
    "def on_message(ws, message):\n",
    "    msg = json.loads(message)\n",
    "    d = [(msg['T'],msg['p'])]\n",
    "    global df\n",
    "    df = pd.concat([df, pd.DataFrame.from_records(d)])\n",
    "    #print(message)\n",
    "\n",
    "def on_error(ws, error):\n",
    "    print(error)\n",
    "\n",
    "def on_close(ws, close_status_code, close_msg):\n",
    "    print('### closed ###')\n",
    "    df.columns = ['time', 'price']\n",
    "    df['time'] = pd.to_datetime(df['time'], unit='ms')\n",
    "    #print(df)\n",
    "    print_to_json_file(filename,df)\n",
    "    \n",
    "def on_open(ws):\n",
    "    print(\"Opened connection\")\n",
    "    # Start a timer to close the WebSocket after 40 seconds\n",
    "    def stop_stream():\n",
    "        print(\"Closing WebSocket after 40 seconds...\")\n",
    "        ws.close()\n",
    "    \n",
    "    timer = threading.Timer(5, stop_stream)\n",
    "    timer.start()\n",
    "\n",
    "def print_to_json_file(filename,df):\n",
    "    \n",
    "    json_str = df.to_json(orient='records')  \n",
    "\n",
    "    with open(filename, \"w\") as file:\n",
    "        file.write(json_str)\n",
    "    print(\"Text file written!\", filename)"
   ]
  },
  {
   "cell_type": "code",
   "execution_count": 41,
   "metadata": {},
   "outputs": [
    {
     "name": "stdout",
     "output_type": "stream",
     "text": [
      "Opened connection\n",
      "### closed ###\n",
      "Text file written! streaming_data/BTCUSDT_hist_trades.json\n",
      "Opened connection\n",
      "### closed ###\n",
      "Text file written! streaming_data/ETHBTC_hist_trades.json\n"
     ]
    }
   ],
   "source": [
    "symbol_array = ['btcusdt','ethbtc']\n",
    "path = \"streaming_data\"\n",
    "os.mkdir(path)\n",
    "\n",
    "for symbol in symbol_array:\n",
    "    socket = f'wss://stream.binance.com:9443/ws/{symbol}@trade'\n",
    "    filename = path + '/' + symbol.upper() +'_hist_trades.json'\n",
    "    ws = websocket.WebSocketApp(socket, on_open=on_open, on_message=on_message, on_error=on_error,on_close=on_close)\n",
    "    ws.run_forever()"
   ]
  },
  {
   "cell_type": "code",
   "execution_count": 82,
   "metadata": {},
   "outputs": [],
   "source": [
    "symbol = 'btcusdt'\n",
    "socket = f'wss://stream.binance.com:9443/ws/{symbol}@kline_1m'"
   ]
  },
  {
   "cell_type": "code",
   "execution_count": 83,
   "metadata": {},
   "outputs": [],
   "source": [
    "df = pd.DataFrame()\n",
    "\n",
    "def on_message(ws, message):\n",
    "    print(message)\n",
    "\n",
    "def on_error(ws, error):\n",
    "    print(error)\n",
    "\n",
    "def on_close(ws, close_status_code, close_msg):\n",
    "    print('### closed ###')\n",
    "\n",
    "def on_open(ws):\n",
    "    print(\"Opened connection\")\n",
    "\n",
    "ws = websocket.WebSocketApp(socket, on_open=on_open, on_message=on_message, on_error=on_error, on_close=on_close)"
   ]
  },
  {
   "cell_type": "code",
   "execution_count": 84,
   "metadata": {},
   "outputs": [
    {
     "name": "stdout",
     "output_type": "stream",
     "text": [
      "Opened connection\n",
      "{\"e\":\"kline\",\"E\":1734100154017,\"s\":\"BTCUSDT\",\"k\":{\"t\":1734100140000,\"T\":1734100199999,\"s\":\"BTCUSDT\",\"i\":\"1m\",\"f\":4266205701,\"L\":4266207536,\"o\":\"100371.25000000\",\"c\":\"100414.70000000\",\"h\":\"100414.70000000\",\"l\":\"100371.25000000\",\"v\":\"1.64591000\",\"n\":1836,\"x\":false,\"q\":\"165222.10612060\",\"V\":\"1.58488000\",\"Q\":\"159095.49878490\",\"B\":\"0\"}}\n",
      "{\"e\":\"kline\",\"E\":1734100156014,\"s\":\"BTCUSDT\",\"k\":{\"t\":1734100140000,\"T\":1734100199999,\"s\":\"BTCUSDT\",\"i\":\"1m\",\"f\":4266205701,\"L\":4266207546,\"o\":\"100371.25000000\",\"c\":\"100414.70000000\",\"h\":\"100414.70000000\",\"l\":\"100371.25000000\",\"v\":\"1.65009000\",\"n\":1846,\"x\":false,\"q\":\"165641.83954340\",\"V\":\"1.58674000\",\"Q\":\"159282.27012690\",\"B\":\"0\"}}\n",
      "\n",
      "### closed ###\n"
     ]
    },
    {
     "data": {
      "text/plain": [
       "True"
      ]
     },
     "execution_count": 84,
     "metadata": {},
     "output_type": "execute_result"
    }
   ],
   "source": [
    "ws.run_forever()"
   ]
  },
  {
   "cell_type": "code",
   "execution_count": null,
   "metadata": {},
   "outputs": [],
   "source": [
    "t = []\n",
    "\n",
    "def on_message(ws, message):\n",
    "    msg = json.loads(message)\n",
    "    bar = msg['k']\n",
    "    if bar['x'] == True:\n",
    "        t.append(bar['t'])"
   ]
  },
  {
   "cell_type": "markdown",
   "metadata": {},
   "source": [
    "### Transaction"
   ]
  },
  {
   "cell_type": "markdown",
   "metadata": {},
   "source": [
    "#### 6. Order Book"
   ]
  },
  {
   "cell_type": "code",
   "execution_count": 39,
   "metadata": {},
   "outputs": [
    {
     "data": {
      "text/html": [
       "<div>\n",
       "<style scoped>\n",
       "    .dataframe tbody tr th:only-of-type {\n",
       "        vertical-align: middle;\n",
       "    }\n",
       "\n",
       "    .dataframe tbody tr th {\n",
       "        vertical-align: top;\n",
       "    }\n",
       "\n",
       "    .dataframe thead th {\n",
       "        text-align: right;\n",
       "    }\n",
       "</style>\n",
       "<table border=\"1\" class=\"dataframe\">\n",
       "  <thead>\n",
       "    <tr style=\"text-align: right;\">\n",
       "      <th></th>\n",
       "      <th>price</th>\n",
       "      <th>bids</th>\n",
       "      <th>asks</th>\n",
       "    </tr>\n",
       "  </thead>\n",
       "  <tbody>\n",
       "    <tr>\n",
       "      <th>0</th>\n",
       "      <td>96786.29000000</td>\n",
       "      <td>0.00100000</td>\n",
       "      <td>0</td>\n",
       "    </tr>\n",
       "    <tr>\n",
       "      <th>1</th>\n",
       "      <td>96596.69000000</td>\n",
       "      <td>0.00001000</td>\n",
       "      <td>0</td>\n",
       "    </tr>\n",
       "    <tr>\n",
       "      <th>2</th>\n",
       "      <td>96539.63000000</td>\n",
       "      <td>0.00312000</td>\n",
       "      <td>0</td>\n",
       "    </tr>\n",
       "    <tr>\n",
       "      <th>3</th>\n",
       "      <td>96538.15000000</td>\n",
       "      <td>0.00130000</td>\n",
       "      <td>0</td>\n",
       "    </tr>\n",
       "    <tr>\n",
       "      <th>4</th>\n",
       "      <td>96536.56000000</td>\n",
       "      <td>0.00513000</td>\n",
       "      <td>0</td>\n",
       "    </tr>\n",
       "  </tbody>\n",
       "</table>\n",
       "</div>"
      ],
      "text/plain": [
       "            price        bids asks\n",
       "0  96786.29000000  0.00100000    0\n",
       "1  96596.69000000  0.00001000    0\n",
       "2  96539.63000000  0.00312000    0\n",
       "3  96538.15000000  0.00130000    0\n",
       "4  96536.56000000  0.00513000    0"
      ]
     },
     "execution_count": 39,
     "metadata": {},
     "output_type": "execute_result"
    }
   ],
   "source": [
    "market_depth = client.get_order_book(symbol='BTCUSDT')\n",
    "bids = pd.DataFrame(market_depth['bids'])\n",
    "bids.columns = ['price','bids']\n",
    "asks = pd.DataFrame(market_depth['asks'])\n",
    "asks.columns = ['price','asks']\n",
    "df = pd.concat([bids,asks]).fillna(0)\n",
    "df.head()"
   ]
  }
 ],
 "metadata": {
  "kernelspec": {
   "display_name": "vscode",
   "language": "python",
   "name": "vscode"
  },
  "language_info": {
   "codemirror_mode": {
    "name": "ipython",
    "version": 3
   },
   "file_extension": ".py",
   "mimetype": "text/x-python",
   "name": "python",
   "nbconvert_exporter": "python",
   "pygments_lexer": "ipython3",
   "version": "3.8.10"
  }
 },
 "nbformat": 4,
 "nbformat_minor": 2
}
