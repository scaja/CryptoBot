{
 "cells": [
  {
   "cell_type": "markdown",
   "metadata": {},
   "source": [
    "## Setup PySpark"
   ]
  },
  {
   "cell_type": "code",
   "execution_count": 87,
   "metadata": {},
   "outputs": [],
   "source": [
    "from pyspark.sql import SparkSession\n",
    "from pyspark.sql.functions import col, to_timestamp, unix_timestamp, lag\n",
    "from pyspark.sql.window import Window\n",
    "from pyspark.ml.feature import VectorAssembler, MinMaxScaler\n",
    "from pyspark.ml.regression import LinearRegression"
   ]
  },
  {
   "cell_type": "markdown",
   "metadata": {},
   "source": [
    "## Init Spark"
   ]
  },
  {
   "cell_type": "code",
   "execution_count": 88,
   "metadata": {},
   "outputs": [],
   "source": [
    "spark = SparkSession.builder.appName(\"BitcoinPricePrediction\").getOrCreate()"
   ]
  },
  {
   "cell_type": "markdown",
   "metadata": {},
   "source": [
    "## Load Data"
   ]
  },
  {
   "cell_type": "code",
   "execution_count": 89,
   "metadata": {},
   "outputs": [
    {
     "data": {
      "text/plain": [
       "Row(price='95146.52000000', symbol='btcusdt', time='2024-12-29T11:42:13.653000')"
      ]
     },
     "execution_count": 89,
     "metadata": {},
     "output_type": "execute_result"
    }
   ],
   "source": [
    "from elasticsearch import Elasticsearch\n",
    "\n",
    "es = Elasticsearch(hosts=[\"http://localhost:9200\"])\n",
    "\n",
    "response = es.search(index=\"historical\", body={\n",
    "    \"query\": {\n",
    "        \"match_all\": {}\n",
    "    },\n",
    "    \"size\": 1000  \n",
    "})\n",
    "\n",
    "data = [hit[\"_source\"] for hit in response[\"hits\"][\"hits\"]]\n",
    "\n",
    "spark = SparkSession.builder.appName(\"BitcoinPricePrediction\").getOrCreate()\n",
    "\n",
    "training_df = spark.createDataFrame(data)\n",
    "\n",
    "training_df.head()"
   ]
  },
  {
   "cell_type": "code",
   "execution_count": 90,
   "metadata": {},
   "outputs": [
    {
     "name": "stdout",
     "output_type": "stream",
     "text": [
      "root\n",
      " |-- price: string (nullable = true)\n",
      " |-- symbol: string (nullable = true)\n",
      " |-- time: string (nullable = true)\n",
      "\n"
     ]
    }
   ],
   "source": [
    "training_df.printSchema()"
   ]
  },
  {
   "cell_type": "markdown",
   "metadata": {},
   "source": [
    "## Convert Data"
   ]
  },
  {
   "cell_type": "code",
   "execution_count": 91,
   "metadata": {},
   "outputs": [
    {
     "data": {
      "text/plain": [
       "[Row(price=95146.52, symbol='btcusdt', time=datetime.datetime(2024, 12, 29, 11, 42, 13, 653000), time_numeric=1735472533),\n",
       " Row(price=95146.52, symbol='btcusdt', time=datetime.datetime(2024, 12, 29, 11, 42, 14, 824000), time_numeric=1735472534)]"
      ]
     },
     "execution_count": 91,
     "metadata": {},
     "output_type": "execute_result"
    }
   ],
   "source": [
    "\n",
    "training_df = training_df.withColumn(\"time\", to_timestamp(col(\"time\")))\n",
    "\n",
    "training_df = training_df.withColumn(\"time_numeric\", unix_timestamp(col(\"time\")))\n",
    "\n",
    "training_df = training_df.withColumn(\"price\", col(\"price\").cast(\"double\"))\n",
    "\n",
    "training_df.head(2)"
   ]
  },
  {
   "cell_type": "code",
   "execution_count": 92,
   "metadata": {},
   "outputs": [
    {
     "name": "stdout",
     "output_type": "stream",
     "text": [
      "root\n",
      " |-- price: double (nullable = true)\n",
      " |-- symbol: string (nullable = true)\n",
      " |-- time: timestamp (nullable = true)\n",
      " |-- time_numeric: long (nullable = true)\n",
      "\n"
     ]
    }
   ],
   "source": [
    "training_df.printSchema()"
   ]
  },
  {
   "cell_type": "markdown",
   "metadata": {},
   "source": [
    "## Feature Engineering\n"
   ]
  },
  {
   "cell_type": "code",
   "execution_count": 93,
   "metadata": {},
   "outputs": [
    {
     "name": "stderr",
     "output_type": "stream",
     "text": [
      "25/01/29 14:29:09 WARN WindowExec: No Partition Defined for Window operation! Moving all data to a single partition, this can cause serious performance degradation.\n",
      "25/01/29 14:29:09 WARN WindowExec: No Partition Defined for Window operation! Moving all data to a single partition, this can cause serious performance degradation.\n",
      "25/01/29 14:29:09 WARN WindowExec: No Partition Defined for Window operation! Moving all data to a single partition, this can cause serious performance degradation.\n",
      "25/01/29 14:29:09 WARN WindowExec: No Partition Defined for Window operation! Moving all data to a single partition, this can cause serious performance degradation.\n",
      "25/01/29 14:29:09 WARN WindowExec: No Partition Defined for Window operation! Moving all data to a single partition, this can cause serious performance degradation.\n"
     ]
    },
    {
     "data": {
      "text/plain": [
       "[Row(price=95146.52, symbol='btcusdt', time=datetime.datetime(2024, 12, 29, 11, 42, 14, 824000), time_numeric=1735472534, prev_price=95146.52),\n",
       " Row(price=95147.64, symbol='btcusdt', time=datetime.datetime(2024, 12, 29, 11, 42, 17, 836000), time_numeric=1735472537, prev_price=95146.52)]"
      ]
     },
     "execution_count": 93,
     "metadata": {},
     "output_type": "execute_result"
    }
   ],
   "source": [
    "window_spec = Window.orderBy(\"time_numeric\")\n",
    "\n",
    "training_df = training_df.withColumn(\"prev_price\", lag(\"price\", 1).over(window_spec))\n",
    "\n",
    "training_df = training_df.na.drop()\n",
    "\n",
    "training_df.head(2)"
   ]
  },
  {
   "cell_type": "code",
   "execution_count": 94,
   "metadata": {},
   "outputs": [
    {
     "name": "stdout",
     "output_type": "stream",
     "text": [
      "root\n",
      " |-- price: double (nullable = true)\n",
      " |-- symbol: string (nullable = true)\n",
      " |-- time: timestamp (nullable = true)\n",
      " |-- time_numeric: long (nullable = true)\n",
      " |-- prev_price: double (nullable = true)\n",
      "\n"
     ]
    }
   ],
   "source": [
    "training_df.printSchema()"
   ]
  },
  {
   "cell_type": "markdown",
   "metadata": {},
   "source": [
    "## Split Data"
   ]
  },
  {
   "cell_type": "markdown",
   "metadata": {},
   "source": [
    "##### For time series models (such as Bitcoin predictions), randomSplit() is not ideal because future values are not randomly distributed. Instead, a rolling split should be used so that the model learns only from past data."
   ]
  },
  {
   "cell_type": "code",
   "execution_count": 95,
   "metadata": {},
   "outputs": [
    {
     "name": "stderr",
     "output_type": "stream",
     "text": [
      "25/01/29 14:29:48 WARN WindowExec: No Partition Defined for Window operation! Moving all data to a single partition, this can cause serious performance degradation.\n",
      "25/01/29 14:29:48 WARN WindowExec: No Partition Defined for Window operation! Moving all data to a single partition, this can cause serious performance degradation.\n",
      "25/01/29 14:29:48 WARN WindowExec: No Partition Defined for Window operation! Moving all data to a single partition, this can cause serious performance degradation.\n",
      "25/01/29 14:29:48 WARN WindowExec: No Partition Defined for Window operation! Moving all data to a single partition, this can cause serious performance degradation.\n",
      "25/01/29 14:29:48 WARN WindowExec: No Partition Defined for Window operation! Moving all data to a single partition, this can cause serious performance degradation.\n",
      "25/01/29 14:29:48 WARN WindowExec: No Partition Defined for Window operation! Moving all data to a single partition, this can cause serious performance degradation.\n",
      "25/01/29 14:29:48 WARN WindowExec: No Partition Defined for Window operation! Moving all data to a single partition, this can cause serious performance degradation.\n",
      "25/01/29 14:29:48 WARN WindowExec: No Partition Defined for Window operation! Moving all data to a single partition, this can cause serious performance degradation.\n",
      "25/01/29 14:29:48 WARN WindowExec: No Partition Defined for Window operation! Moving all data to a single partition, this can cause serious performance degradation.\n",
      "25/01/29 14:29:48 WARN WindowExec: No Partition Defined for Window operation! Moving all data to a single partition, this can cause serious performance degradation.\n",
      "25/01/29 14:29:48 WARN WindowExec: No Partition Defined for Window operation! Moving all data to a single partition, this can cause serious performance degradation.\n",
      "25/01/29 14:29:48 WARN WindowExec: No Partition Defined for Window operation! Moving all data to a single partition, this can cause serious performance degradation.\n",
      "25/01/29 14:29:48 WARN WindowExec: No Partition Defined for Window operation! Moving all data to a single partition, this can cause serious performance degradation.\n",
      "25/01/29 14:29:48 WARN WindowExec: No Partition Defined for Window operation! Moving all data to a single partition, this can cause serious performance degradation.\n",
      "25/01/29 14:29:48 WARN WindowExec: No Partition Defined for Window operation! Moving all data to a single partition, this can cause serious performance degradation.\n",
      "25/01/29 14:29:48 WARN WindowExec: No Partition Defined for Window operation! Moving all data to a single partition, this can cause serious performance degradation.\n",
      "25/01/29 14:29:48 WARN WindowExec: No Partition Defined for Window operation! Moving all data to a single partition, this can cause serious performance degradation.\n",
      "25/01/29 14:29:48 WARN WindowExec: No Partition Defined for Window operation! Moving all data to a single partition, this can cause serious performance degradation.\n",
      "25/01/29 14:29:49 WARN WindowExec: No Partition Defined for Window operation! Moving all data to a single partition, this can cause serious performance degradation.\n",
      "25/01/29 14:29:49 WARN WindowExec: No Partition Defined for Window operation! Moving all data to a single partition, this can cause serious performance degradation.\n"
     ]
    },
    {
     "name": "stdout",
     "output_type": "stream",
     "text": [
      "Train: 799 rows, Test: 199 rows\n"
     ]
    }
   ],
   "source": [
    "training_df = training_df.orderBy(\"time_numeric\")\n",
    "\n",
    "split_index = int(training_df.count() * 0.8)\n",
    "\n",
    "train_data = training_df.limit(split_index)\n",
    "test_data = training_df.subtract(train_data)\n",
    "\n",
    "print(f\"Train: {train_data.count()} rows, Test: {test_data.count()} rows\")"
   ]
  },
  {
   "cell_type": "markdown",
   "metadata": {},
   "source": [
    "## Vectorize"
   ]
  },
  {
   "cell_type": "code",
   "execution_count": 96,
   "metadata": {},
   "outputs": [
    {
     "name": "stderr",
     "output_type": "stream",
     "text": [
      "25/01/29 14:29:54 WARN WindowExec: No Partition Defined for Window operation! Moving all data to a single partition, this can cause serious performance degradation.\n",
      "25/01/29 14:29:54 WARN WindowExec: No Partition Defined for Window operation! Moving all data to a single partition, this can cause serious performance degradation.\n",
      "25/01/29 14:29:54 WARN WindowExec: No Partition Defined for Window operation! Moving all data to a single partition, this can cause serious performance degradation.\n",
      "25/01/29 14:29:54 WARN WindowExec: No Partition Defined for Window operation! Moving all data to a single partition, this can cause serious performance degradation.\n",
      "25/01/29 14:29:54 WARN WindowExec: No Partition Defined for Window operation! Moving all data to a single partition, this can cause serious performance degradation.\n"
     ]
    },
    {
     "name": "stdout",
     "output_type": "stream",
     "text": [
      "+--------+-------+--------------------+------------+----------+--------------------+\n",
      "|   price| symbol|                time|time_numeric|prev_price|Independent Features|\n",
      "+--------+-------+--------------------+------------+----------+--------------------+\n",
      "|95146.52|btcusdt|2024-12-29 11:42:...|  1735472534|  95146.52|[1.735472534E9,95...|\n",
      "|95147.64|btcusdt|2024-12-29 11:42:...|  1735472537|  95146.52|[1.735472537E9,95...|\n",
      "|95147.64|btcusdt|2024-12-29 11:42:...|  1735472537|  95147.64|[1.735472537E9,95...|\n",
      "|95147.84|btcusdt|2024-12-29 11:42:...|  1735472537|  95147.64|[1.735472537E9,95...|\n",
      "|95147.86|btcusdt|2024-12-29 11:42:...|  1735472539|  95147.84|[1.735472539E9,95...|\n",
      "+--------+-------+--------------------+------------+----------+--------------------+\n",
      "only showing top 5 rows\n",
      "\n",
      "None\n",
      "['price', 'symbol', 'time', 'time_numeric', 'prev_price', 'Independent Features']\n"
     ]
    }
   ],
   "source": [
    "feature_cols = [\"time_numeric\", \"prev_price\"]\n",
    "featureassembler=VectorAssembler(inputCols=feature_cols,outputCol=\"Independent Features\")\n",
    "train_data_output=featureassembler.transform(train_data)\n",
    "print(train_data_output.show(5))\n",
    "print(train_data_output.columns)"
   ]
  },
  {
   "cell_type": "markdown",
   "metadata": {},
   "source": [
    "## Prepare Data ML Model"
   ]
  },
  {
   "cell_type": "code",
   "execution_count": null,
   "metadata": {},
   "outputs": [],
   "source": [
    "scaler = MinMaxScaler(inputCol=\"features\", outputCol=\"scaled_features\")\n",
    "scaler_model = scaler.fit(train_data_output)\n",
    "training_data_output = scaler_model.transform(train_data_output)\n",
    "\n",
    "training_data_output.select(\"features\", \"scaled_features\").show(truncate=False)"
   ]
  },
  {
   "cell_type": "code",
   "execution_count": null,
   "metadata": {},
   "outputs": [
    {
     "name": "stderr",
     "output_type": "stream",
     "text": [
      "25/01/29 13:59:46 WARN WindowExec: No Partition Defined for Window operation! Moving all data to a single partition, this can cause serious performance degradation.\n",
      "25/01/29 13:59:46 WARN WindowExec: No Partition Defined for Window operation! Moving all data to a single partition, this can cause serious performance degradation.\n",
      "25/01/29 13:59:46 WARN WindowExec: No Partition Defined for Window operation! Moving all data to a single partition, this can cause serious performance degradation.\n",
      "25/01/29 13:59:47 WARN WindowExec: No Partition Defined for Window operation! Moving all data to a single partition, this can cause serious performance degradation.\n",
      "25/01/29 13:59:47 WARN WindowExec: No Partition Defined for Window operation! Moving all data to a single partition, this can cause serious performance degradation.\n"
     ]
    },
    {
     "name": "stdout",
     "output_type": "stream",
     "text": [
      "+--------+-------+--------------------+------------+----------+--------------------+\n",
      "|   price| symbol|                time|time_numeric|prev_price|Independent Features|\n",
      "+--------+-------+--------------------+------------+----------+--------------------+\n",
      "|95146.52|btcusdt|2024-12-29 11:42:...|  1735472534|  95146.52|[1.735472534E9,95...|\n",
      "|95147.64|btcusdt|2024-12-29 11:42:...|  1735472537|  95146.52|[1.735472537E9,95...|\n",
      "|95147.64|btcusdt|2024-12-29 11:42:...|  1735472537|  95147.64|[1.735472537E9,95...|\n",
      "|95147.84|btcusdt|2024-12-29 11:42:...|  1735472537|  95147.64|[1.735472537E9,95...|\n",
      "|95147.86|btcusdt|2024-12-29 11:42:...|  1735472539|  95147.84|[1.735472539E9,95...|\n",
      "+--------+-------+--------------------+------------+----------+--------------------+\n",
      "only showing top 5 rows\n",
      "\n",
      "None\n",
      "['price', 'symbol', 'time', 'time_numeric', 'prev_price', 'Independent Features']\n"
     ]
    },
    {
     "name": "stderr",
     "output_type": "stream",
     "text": [
      "25/01/29 13:59:47 WARN WindowExec: No Partition Defined for Window operation! Moving all data to a single partition, this can cause serious performance degradation.\n",
      "25/01/29 13:59:47 WARN WindowExec: No Partition Defined for Window operation! Moving all data to a single partition, this can cause serious performance degradation.\n",
      "25/01/29 13:59:47 WARN WindowExec: No Partition Defined for Window operation! Moving all data to a single partition, this can cause serious performance degradation.\n",
      "25/01/29 13:59:47 WARN WindowExec: No Partition Defined for Window operation! Moving all data to a single partition, this can cause serious performance degradation.\n",
      "25/01/29 13:59:47 WARN WindowExec: No Partition Defined for Window operation! Moving all data to a single partition, this can cause serious performance degradation.\n"
     ]
    },
    {
     "name": "stdout",
     "output_type": "stream",
     "text": [
      "+--------------------+--------+\n",
      "|Independent Features|   price|\n",
      "+--------------------+--------+\n",
      "|[1.735472534E9,95...|95146.52|\n",
      "|[1.735472537E9,95...|95147.64|\n",
      "|[1.735472537E9,95...|95147.64|\n",
      "|[1.735472537E9,95...|95147.84|\n",
      "|[1.735472539E9,95...|95147.86|\n",
      "+--------------------+--------+\n",
      "only showing top 5 rows\n",
      "\n",
      "None\n"
     ]
    }
   ],
   "source": [
    "finalized_data=training_data_output.select(\"Independent Features\",\"price\")\n",
    "print(finalized_data.show(5))"
   ]
  },
  {
   "cell_type": "code",
   "execution_count": null,
   "metadata": {},
   "outputs": [],
   "source": []
  },
  {
   "cell_type": "markdown",
   "metadata": {},
   "source": [
    "## Split Data"
   ]
  },
  {
   "cell_type": "code",
   "execution_count": 79,
   "metadata": {},
   "outputs": [],
   "source": [
    "#train_data,test_data=finalized_data.randomSplit([0.75,0.25])\n",
    "#train_data.show(2)"
   ]
  },
  {
   "cell_type": "markdown",
   "metadata": {},
   "source": [
    "## Train Model"
   ]
  },
  {
   "cell_type": "code",
   "execution_count": 81,
   "metadata": {},
   "outputs": [
    {
     "name": "stderr",
     "output_type": "stream",
     "text": [
      "25/01/29 14:01:18 WARN WindowExec: No Partition Defined for Window operation! Moving all data to a single partition, this can cause serious performance degradation.\n",
      "25/01/29 14:01:18 WARN WindowExec: No Partition Defined for Window operation! Moving all data to a single partition, this can cause serious performance degradation.\n",
      "25/01/29 14:01:18 WARN WindowExec: No Partition Defined for Window operation! Moving all data to a single partition, this can cause serious performance degradation.\n",
      "25/01/29 14:01:18 WARN WindowExec: No Partition Defined for Window operation! Moving all data to a single partition, this can cause serious performance degradation.\n",
      "25/01/29 14:01:18 WARN WindowExec: No Partition Defined for Window operation! Moving all data to a single partition, this can cause serious performance degradation.\n",
      "25/01/29 14:01:18 WARN WindowExec: No Partition Defined for Window operation! Moving all data to a single partition, this can cause serious performance degradation.\n",
      "25/01/29 14:01:18 WARN WindowExec: No Partition Defined for Window operation! Moving all data to a single partition, this can cause serious performance degradation.\n",
      "25/01/29 14:01:18 WARN WindowExec: No Partition Defined for Window operation! Moving all data to a single partition, this can cause serious performance degradation.\n",
      "25/01/29 14:01:18 WARN WindowExec: No Partition Defined for Window operation! Moving all data to a single partition, this can cause serious performance degradation.\n",
      "25/01/29 14:01:18 WARN WindowExec: No Partition Defined for Window operation! Moving all data to a single partition, this can cause serious performance degradation.\n",
      "25/01/29 14:01:18 WARN Instrumentation: [7b6da5e2] regParam is zero, which might cause numerical instability and overfitting.\n",
      "25/01/29 14:01:18 WARN WindowExec: No Partition Defined for Window operation! Moving all data to a single partition, this can cause serious performance degradation.\n",
      "25/01/29 14:01:18 WARN WindowExec: No Partition Defined for Window operation! Moving all data to a single partition, this can cause serious performance degradation.\n",
      "25/01/29 14:01:18 WARN WindowExec: No Partition Defined for Window operation! Moving all data to a single partition, this can cause serious performance degradation.\n",
      "25/01/29 14:01:19 WARN WindowExec: No Partition Defined for Window operation! Moving all data to a single partition, this can cause serious performance degradation.\n",
      "25/01/29 14:01:19 WARN WindowExec: No Partition Defined for Window operation! Moving all data to a single partition, this can cause serious performance degradation.\n"
     ]
    }
   ],
   "source": [
    "regressor=LinearRegression(featuresCol=\"Independent Features\",labelCol=\"price\")\n",
    "regressor=regressor.fit(finalized_data)"
   ]
  },
  {
   "cell_type": "code",
   "execution_count": 82,
   "metadata": {},
   "outputs": [
    {
     "name": "stdout",
     "output_type": "stream",
     "text": [
      "Coefficients: [-0.6013950992702369,0.21311176201088236]\n",
      "Intercept: 1043779918.4383444\n"
     ]
    }
   ],
   "source": [
    "print(f\"Coefficients: {regressor.coefficients}\")\n",
    "print(f\"Intercept: {regressor.intercept}\")"
   ]
  },
  {
   "cell_type": "code",
   "execution_count": 85,
   "metadata": {},
   "outputs": [],
   "source": [
    "regressor.save(\"regression_model version 1\")"
   ]
  },
  {
   "cell_type": "code",
   "execution_count": null,
   "metadata": {},
   "outputs": [],
   "source": []
  },
  {
   "cell_type": "code",
   "execution_count": null,
   "metadata": {},
   "outputs": [],
   "source": []
  },
  {
   "cell_type": "code",
   "execution_count": 5,
   "metadata": {},
   "outputs": [
    {
     "name": "stderr",
     "output_type": "stream",
     "text": [
      "25/01/29 09:24:47 WARN SparkSession: Using an existing Spark session; only runtime SQL configurations will take effect.\n"
     ]
    }
   ],
   "source": [
    "from pyspark.sql import SparkSession\n",
    "spark=SparkSession.builder.appName('Elasticsearch to Pyspark').getOrCreate()"
   ]
  },
  {
   "cell_type": "code",
   "execution_count": 6,
   "metadata": {},
   "outputs": [],
   "source": [
    "from elasticsearch import Elasticsearch\n",
    "\n",
    "es = Elasticsearch(hosts=[\"http://localhost:9200\"])\n",
    "\n",
    "response = es.search(index=\"historical\", body={\n",
    "    \"query\": {\n",
    "        \"match_all\": {}\n",
    "    },\n",
    "    \"size\": 1000  \n",
    "})\n",
    "\n",
    "data = [hit[\"_source\"] for hit in response[\"hits\"][\"hits\"]]"
   ]
  },
  {
   "cell_type": "code",
   "execution_count": 9,
   "metadata": {},
   "outputs": [],
   "source": [
    "from pyspark.sql import SparkSession\n",
    "\n",
    "# Spark Session erstellen\n",
    "spark = SparkSession.builder.appName(\"Elasticsearch to PySpark\").getOrCreate()\n",
    "\n",
    "training_df = spark.createDataFrame(data)\n",
    "\n",
    "\n",
    "#from pyspark.ml.feature import VectorAssembler\n",
    "#assembler = VectorAssembler(inputCols=[\"feature1\", \"feature2\"], outputCol=\"features\")\n",
    "#dataset = assembler.transform(df).select(\"features\", \"label\")"
   ]
  },
  {
   "cell_type": "code",
   "execution_count": 10,
   "metadata": {},
   "outputs": [
    {
     "data": {
      "text/plain": [
       "Row(price='95146.52000000', symbol='btcusdt', time='2024-12-29T11:42:13.653000')"
      ]
     },
     "execution_count": 10,
     "metadata": {},
     "output_type": "execute_result"
    }
   ],
   "source": [
    "training_df.head()"
   ]
  },
  {
   "cell_type": "markdown",
   "metadata": {},
   "source": [
    "## read data"
   ]
  },
  {
   "cell_type": "code",
   "execution_count": 20,
   "metadata": {},
   "outputs": [],
   "source": [
    "#training=spark.read.csv('/home/ubuntu/CryptoBot/regression/SalaryData.csv',  header=True, inferSchema=True, nullValue=\"NULL\")"
   ]
  },
  {
   "cell_type": "code",
   "execution_count": 11,
   "metadata": {},
   "outputs": [
    {
     "name": "stdout",
     "output_type": "stream",
     "text": [
      "+--------------+-------+--------------------+\n",
      "|         price| symbol|                time|\n",
      "+--------------+-------+--------------------+\n",
      "|95146.52000000|btcusdt|2024-12-29T11:42:...|\n",
      "|95146.52000000|btcusdt|2024-12-29T11:42:...|\n",
      "|95147.64000000|btcusdt|2024-12-29T11:42:...|\n",
      "|95147.64000000|btcusdt|2024-12-29T11:42:...|\n",
      "|95147.84000000|btcusdt|2024-12-29T11:42:...|\n",
      "|95147.86000000|btcusdt|2024-12-29T11:42:...|\n",
      "|95147.86000000|btcusdt|2024-12-29T11:42:...|\n",
      "|95147.84000000|btcusdt|2024-12-29T11:42:...|\n",
      "|95147.83000000|btcusdt|2024-12-29T11:42:...|\n",
      "|95147.63000000|btcusdt|2024-12-29T11:42:...|\n",
      "|95147.87000000|btcusdt|2024-12-29T11:42:...|\n",
      "|95147.89000000|btcusdt|2024-12-29T11:42:...|\n",
      "|95147.86000000|btcusdt|2024-12-29T11:42:...|\n",
      "|95147.82000000|btcusdt|2024-12-29T11:42:...|\n",
      "|95147.87000000|btcusdt|2024-12-29T11:43:...|\n",
      "|95147.89000000|btcusdt|2024-12-29T11:43:...|\n",
      "|95147.92000000|btcusdt|2024-12-29T11:43:...|\n",
      "|95148.75000000|btcusdt|2024-12-29T11:43:...|\n",
      "|95148.75000000|btcusdt|2024-12-29T11:43:...|\n",
      "|95148.79000000|btcusdt|2024-12-29T11:43:...|\n",
      "+--------------+-------+--------------------+\n",
      "only showing top 20 rows\n",
      "\n"
     ]
    }
   ],
   "source": [
    "training_df.show()"
   ]
  },
  {
   "cell_type": "code",
   "execution_count": 12,
   "metadata": {},
   "outputs": [
    {
     "name": "stdout",
     "output_type": "stream",
     "text": [
      "root\n",
      " |-- price: string (nullable = true)\n",
      " |-- symbol: string (nullable = true)\n",
      " |-- time: string (nullable = true)\n",
      "\n"
     ]
    }
   ],
   "source": [
    "training_df.printSchema()"
   ]
  },
  {
   "cell_type": "code",
   "execution_count": 13,
   "metadata": {},
   "outputs": [
    {
     "data": {
      "text/plain": [
       "['price', 'symbol', 'time']"
      ]
     },
     "execution_count": 13,
     "metadata": {},
     "output_type": "execute_result"
    }
   ],
   "source": [
    "training_df.columns"
   ]
  },
  {
   "cell_type": "code",
   "execution_count": 38,
   "metadata": {},
   "outputs": [],
   "source": [
    "from pyspark.sql.functions import col, to_timestamp, unix_timestamp\n",
    "\n",
    "training_df = training_df.withColumn(\"time\", to_timestamp(col(\"time\")))\n",
    "training_df = training_df.withColumn(\"time_numeric\", unix_timestamp(col(\"time\")))\n",
    "\n",
    "training_df = training_df.withColumn(\"price\", col(\"price\").cast(\"double\"))"
   ]
  },
  {
   "cell_type": "code",
   "execution_count": 39,
   "metadata": {},
   "outputs": [
    {
     "name": "stdout",
     "output_type": "stream",
     "text": [
      "+--------+-------+--------------------+------------+\n",
      "|   price| symbol|                time|time_numeric|\n",
      "+--------+-------+--------------------+------------+\n",
      "|95146.52|btcusdt|2024-12-29 11:42:...|  1735472533|\n",
      "|95146.52|btcusdt|2024-12-29 11:42:...|  1735472534|\n",
      "+--------+-------+--------------------+------------+\n",
      "only showing top 2 rows\n",
      "\n",
      "root\n",
      " |-- price: double (nullable = true)\n",
      " |-- symbol: string (nullable = true)\n",
      " |-- time: timestamp (nullable = true)\n",
      " |-- time_numeric: long (nullable = true)\n",
      "\n"
     ]
    }
   ],
   "source": [
    "training_df.show(2)\n",
    "training_df.printSchema()"
   ]
  },
  {
   "cell_type": "code",
   "execution_count": 40,
   "metadata": {},
   "outputs": [],
   "source": [
    "from pyspark.ml.feature import VectorAssembler\n",
    "featureassembler=VectorAssembler(inputCols=[\"time_numeric\"],outputCol=\"Independent Features\")\n",
    "output=featureassembler.transform(training_df)\n",
    "output.show(5)\n",
    "output.columns\n",
    "finalized_data=output.select(\"Independent Features\",\"price\")\n"
   ]
  },
  {
   "cell_type": "code",
   "execution_count": 45,
   "metadata": {},
   "outputs": [
    {
     "name": "stderr",
     "output_type": "stream",
     "text": [
      "25/01/29 10:16:21 WARN Instrumentation: [b5239d50] regParam is zero, which might cause numerical instability and overfitting.\n",
      "25/01/29 10:16:22 WARN InstanceBuilder: Failed to load implementation from:dev.ludovic.netlib.blas.JNIBLAS\n",
      "25/01/29 10:16:22 WARN InstanceBuilder: Failed to load implementation from:dev.ludovic.netlib.lapack.JNILAPACK\n"
     ]
    }
   ],
   "source": [
    "from pyspark.ml.regression import LinearRegression\n",
    "##traintest split\n",
    "train_data,test_data=finalized_data.randomSplit([0.75,0.25])\n",
    "regressor=LinearRegression(featuresCol=\"Independent Features\",labelCol=\"price\")\n",
    "regressor=regressor.fit(train_data)\n"
   ]
  },
  {
   "cell_type": "code",
   "execution_count": 46,
   "metadata": {},
   "outputs": [
    {
     "name": "stdout",
     "output_type": "stream",
     "text": [
      "Coefficients: [-1.5883647098528668]\n",
      "Intercept: 2756659435.7723465\n"
     ]
    }
   ],
   "source": [
    "print(f\"Coefficients: {regressor.coefficients}\")\n",
    "print(f\"Intercept: {regressor.intercept}\")\n",
    "regressor.save(\"regression_model\")\n"
   ]
  },
  {
   "cell_type": "code",
   "execution_count": null,
   "metadata": {},
   "outputs": [],
   "source": []
  }
 ],
 "metadata": {
  "kernelspec": {
   "display_name": "Python 3 (ipykernel)",
   "language": "python",
   "name": "python3"
  },
  "language_info": {
   "codemirror_mode": {
    "name": "ipython",
    "version": 3
   },
   "file_extension": ".py",
   "mimetype": "text/x-python",
   "name": "python",
   "nbconvert_exporter": "python",
   "pygments_lexer": "ipython3",
   "version": "3.8.10"
  }
 },
 "nbformat": 4,
 "nbformat_minor": 2
}
