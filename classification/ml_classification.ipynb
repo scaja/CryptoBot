{
 "cells": [
  {
   "cell_type": "markdown",
   "metadata": {},
   "source": [
    "import data"
   ]
  },
  {
   "cell_type": "code",
   "execution_count": null,
   "metadata": {
    "vscode": {
     "languageId": "plaintext"
    }
   },
   "outputs": [],
   "source": [
    "from pyspark.sql import SparkSession\n",
    "from pyspark.sql.functions import col, unix_timestamp, lag, when, avg\n",
    "from pyspark.sql.window import Window\n",
    "from pyspark.ml.feature import VectorAssembler\n",
    "from pyspark.ml.classification import RandomForestClassifier\n",
    "\n",
    "# 🚀 Start Spark Session\n",
    "spark = SparkSession.builder.appName(\"CryptoTradingBot\").getOrCreate()\n",
    "\n",
    "# 🔹 Sample Data (Bitcoin price, time, volume)\n",
    "data = [\n",
    "    (\"2024-12-29T11:42:13\", 95146.52, 1000),\n",
    "    (\"2024-12-29T11:45:15\", 95300.00, 1200),\n",
    "    (\"2024-12-29T11:48:20\", 95450.75, 1300),\n",
    "    (\"2024-12-29T11:51:25\", 95200.00, 900),\n",
    "    (\"2024-12-29T11:54:30\", 95600.50, 1500),\n",
    "]\n",
    "\n",
    "columns = [\"time\", \"price\", \"volume\"]\n",
    "df = spark.createDataFrame(data, columns)\n",
    "\n",
    "# Convert time to numeric format\n",
    "df = df.withColumn(\"time_numeric\", unix_timestamp(col(\"time\")))\n",
    "\n",
    "# Create lagged price & volume (previous values)\n",
    "window_spec = Window.orderBy(\"time_numeric\")\n",
    "df = df.withColumn(\"prev_price\", lag(\"price\", 1).over(window_spec))\n",
    "df = df.withColumn(\"prev_volume\", lag(\"volume\", 1).over(window_spec))\n",
    "\n",
    "# Compute moving average (5-period window)\n",
    "df = df.withColumn(\"ma_price\", avg(\"price\").over(Window.orderBy(\"time_numeric\").rowsBetween(-2, 0)))\n",
    "\n",
    "# Define label (1 = BUY, 0 = HOLD)\n",
    "df = df.withColumn(\"label\", when(col(\"price\") > col(\"prev_price\"), 1).otherwise(0))\n",
    "\n",
    "# Remove null values\n",
    "df = df.na.drop()\n",
    "\n",
    "# Feature selection\n",
    "assembler = VectorAssembler(inputCols=[\"time_numeric\", \"prev_price\", \"prev_volume\", \"ma_price\"], outputCol=\"features\")\n",
    "df = assembler.transform(df).select(\"features\", \"label\")\n",
    "\n",
    "# 🔥 Train Random Forest Classifier\n",
    "rf = RandomForestClassifier(featuresCol=\"features\", labelCol=\"label\", numTrees=100)\n",
    "model = rf.fit(df)\n",
    "\n",
    "# Predict Buy/Hold Decision\n",
    "predictions = model.transform(df)\n",
    "predictions.select(\"features\", \"label\", \"prediction\").show()"
   ]
  },
  {
   "cell_type": "code",
   "execution_count": null,
   "metadata": {
    "vscode": {
     "languageId": "plaintext"
    }
   },
   "outputs": [],
   "source": [
    "# Sell if profit > 5% or loss > 2%\n",
    "take_profit = 0.05\n",
    "stop_loss = 0.02\n",
    "\n",
    "df = df.withColumn(\n",
    "    \"sell_signal\",\n",
    "    when((col(\"price\") > col(\"prev_price\") * (1 + take_profit)), \"SELL\")\n",
    "    .when((col(\"price\") < col(\"prev_price\") * (1 - stop_loss)), \"SELL\")\n",
    "    .otherwise(\"HOLD\")\n",
    ")\n",
    "\n",
    "df.select(\"time\", \"price\", \"sell_signal\").show()"
   ]
  }
 ],
 "metadata": {
  "language_info": {
   "name": "python"
  }
 },
 "nbformat": 4,
 "nbformat_minor": 2
}
