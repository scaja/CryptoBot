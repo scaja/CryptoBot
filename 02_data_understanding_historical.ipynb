{
 "cells": [
  {
   "cell_type": "markdown",
   "metadata": {},
   "source": [
    "## CryptoBot - data understanding historical"
   ]
  },
  {
   "cell_type": "markdown",
   "metadata": {},
   "source": [
    "#### 1. Import Libraries & API Keys"
   ]
  },
  {
   "cell_type": "code",
   "execution_count": 46,
   "metadata": {},
   "outputs": [],
   "source": [
    "from binance.client import Client\n",
    "from dotenv import load_dotenv\n",
    "import pandas as pd\n",
    "import os"
   ]
  },
  {
   "cell_type": "code",
   "execution_count": 47,
   "metadata": {},
   "outputs": [],
   "source": [
    "load_dotenv()\n",
    "binance_api_key = os.getenv(\"BINANCE_API_KEY\")\n",
    "binance_api_secret = os.getenv(\"BINANCE_API_SECRET\")\n",
    "client = Client(binance_api_key, binance_api_secret, testnet=True)"
   ]
  },
  {
   "cell_type": "markdown",
   "metadata": {},
   "source": [
    "## Historical Data (Market Data Endpoint)\n",
    "###### https://binance-docs.github.io/apidocs/spot/en/#market-data-endpoints"
   ]
  },
  {
   "cell_type": "markdown",
   "metadata": {},
   "source": [
    "### Trade based"
   ]
  },
  {
   "cell_type": "markdown",
   "metadata": {},
   "source": [
    "These data reflect the completed transactions where buyers and sellers have executed their orders on the platform."
   ]
  },
  {
   "cell_type": "code",
   "execution_count": 48,
   "metadata": {},
   "outputs": [],
   "source": [
    "# Get trades from Market Data Endpoint\n",
    "def get_hist_trad_data(symbol, limit):\n",
    "    \n",
    "    historical_trades = client.get_historical_trades(symbol=symbol, limit=limit)\n",
    "\n",
    "    return historical_trades\n",
    "\n",
    "# Build dataframe\n",
    "def build_trad_data_frame(historical_trades):\n",
    "\n",
    "    df = pd.DataFrame(historical_trades)\n",
    "    df['time'] = pd.to_datetime(df['time'], unit='ms')\n",
    "    columns_to_keep = ['time', 'price']\n",
    "    df = df[columns_to_keep]\n",
    "\n",
    "    return df\n",
    "\n",
    "# print to json file\n",
    "def print_to_json_file(filename,df):\n",
    "  \n",
    "    json_str = df.to_json(orient='records', date_format=\"iso\")  \n",
    "\n",
    "    with open(filename, \"w\") as file:\n",
    "        file.write(json_str)\n",
    "    print(\"Text file written!\", filename)"
   ]
  },
  {
   "cell_type": "markdown",
   "metadata": {},
   "source": [
    "### run script trades"
   ]
  },
  {
   "cell_type": "code",
   "execution_count": 49,
   "metadata": {},
   "outputs": [
    {
     "name": "stdout",
     "output_type": "stream",
     "text": [
      "Text file written! data/historical_data/trades/BTCUSDT.json\n",
      "Text file written! data/historical_data/trades/ETHBTC.json\n"
     ]
    }
   ],
   "source": [
    "# Select parameters\n",
    "symbol_array = [\"BTCUSDT\", \"ETHBTC\"] \n",
    "limit=1000\n",
    "\n",
    "path = \"data/historical_data/trades\"\n",
    "os.makedirs(path, exist_ok=True)\n",
    "\n",
    "for symbol in symbol_array:\n",
    "\n",
    "    filename = path + '/' + symbol + '.json'\n",
    "\n",
    "    trades = get_hist_trad_data(symbol, limit)\n",
    "    df = build_trad_data_frame(trades)\n",
    "    print_to_json_file(filename, df)"
   ]
  },
  {
   "cell_type": "code",
   "execution_count": null,
   "metadata": {},
   "outputs": [],
   "source": []
  }
 ],
 "metadata": {
  "kernelspec": {
   "display_name": "vscode",
   "language": "python",
   "name": "vscode"
  },
  "language_info": {
   "codemirror_mode": {
    "name": "ipython",
    "version": 3
   },
   "file_extension": ".py",
   "mimetype": "text/x-python",
   "name": "python",
   "nbconvert_exporter": "python",
   "pygments_lexer": "ipython3",
   "version": "3.8.10"
  }
 },
 "nbformat": 4,
 "nbformat_minor": 2
}
