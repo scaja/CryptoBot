{
 "cells": [
  {
   "cell_type": "markdown",
   "metadata": {},
   "source": [
    "## CryptoBot - data understanding streaming"
   ]
  },
  {
   "cell_type": "markdown",
   "metadata": {},
   "source": [
    "#### 1. Import Libraries & API Keys"
   ]
  },
  {
   "cell_type": "code",
   "execution_count": 11,
   "metadata": {},
   "outputs": [],
   "source": [
    "#from binance import BinanceSocketManager\n",
    "from binance.client import Client\n",
    "from dotenv import load_dotenv\n",
    "import websocket\n",
    "import pandas as pd\n",
    "import json\n",
    "import os\n",
    "import threading\n",
    "import os"
   ]
  },
  {
   "cell_type": "code",
   "execution_count": 12,
   "metadata": {},
   "outputs": [],
   "source": [
    "load_dotenv()\n",
    "binance_api_key = os.getenv(\"BINANCE_API_KEY\")\n",
    "binance_api_secret = os.getenv(\"BINANCE_API_SECRET\")\n",
    "client = Client(binance_api_key, binance_api_secret, testnet=True)"
   ]
  },
  {
   "cell_type": "markdown",
   "metadata": {},
   "source": [
    "## Streaming Data (Websocket Market Endpoint)\n",
    "###### https://binance-docs.github.io/apidocs/spot/en/#websocket-market-streams"
   ]
  },
  {
   "cell_type": "markdown",
   "metadata": {},
   "source": [
    "### Trade based"
   ]
  },
  {
   "cell_type": "markdown",
   "metadata": {},
   "source": [
    "These data reflect the completed transactions where buyers and sellers have executed their orders on the platform."
   ]
  },
  {
   "cell_type": "code",
   "execution_count": 17,
   "metadata": {},
   "outputs": [],
   "source": [
    "df = pd.DataFrame()\n",
    "\n",
    "def on_message(ws, message):\n",
    "    msg = json.loads(message)\n",
    "    d = [(msg['T'],msg['p'])]\n",
    "    global df\n",
    "    df = pd.concat([df, pd.DataFrame.from_records(d)])\n",
    "    #print(message)\n",
    "\n",
    "def on_error(ws, error):\n",
    "    print(error)\n",
    "\n",
    "def on_close(ws, close_status_code, close_msg):\n",
    "    print('### closed ###')\n",
    "    df.columns = ['time', 'price']\n",
    "    df['time'] = pd.to_datetime(df['time'], unit='ms')\n",
    "    print_to_json_file(filename,df)\n",
    "    \n",
    "def on_open(ws):\n",
    "    print(\"Opened connection\")\n",
    "    # Start a timer to close the WebSocket after 40 seconds\n",
    "    def stop_stream():\n",
    "        print(\"Closing WebSocket after 40 seconds...\")\n",
    "        ws.close()\n",
    "    \n",
    "    timer = threading.Timer(5, stop_stream)\n",
    "    timer.start()\n",
    "\n",
    "def print_to_json_file(filename,df):\n",
    "    \n",
    "    json_str = df.to_json(orient='records', date_format=\"iso\")  \n",
    "\n",
    "    with open(filename, \"w\") as file:\n",
    "        file.write(json_str)\n",
    "    print(\"Text file written!\", filename)"
   ]
  },
  {
   "cell_type": "markdown",
   "metadata": {},
   "source": [
    "### run script trades"
   ]
  },
  {
   "cell_type": "code",
   "execution_count": 18,
   "metadata": {},
   "outputs": [
    {
     "name": "stdout",
     "output_type": "stream",
     "text": [
      "Opened connection\n",
      "Closing WebSocket after 40 seconds...\n",
      "### closed ###\n",
      "Text file written! data/streaming_data/trades/BTCUSDT_hist_trades.json\n",
      "Opened connection\n",
      "Closing WebSocket after 40 seconds...\n",
      "### closed ###\n",
      "Length mismatch: Expected axis has 4 elements, new values have 2 elements\n"
     ]
    }
   ],
   "source": [
    "symbol_array = ['btcusdt','ethbtc']\n",
    "path = \"data/streaming_data/trades\"\n",
    "os.makedirs(path, exist_ok=True)\n",
    "\n",
    "for symbol in symbol_array:\n",
    "    socket = f'wss://stream.binance.com:9443/ws/{symbol}@trade'\n",
    "    filename = path + '/' + symbol.upper() +'_hist_trades.json'\n",
    "    ws = websocket.WebSocketApp(socket, on_open=on_open, on_message=on_message, on_error=on_error,on_close=on_close)\n",
    "    ws.run_forever()"
   ]
  }
 ],
 "metadata": {
  "kernelspec": {
   "display_name": "vscode",
   "language": "python",
   "name": "vscode"
  },
  "language_info": {
   "codemirror_mode": {
    "name": "ipython",
    "version": 3
   },
   "file_extension": ".py",
   "mimetype": "text/x-python",
   "name": "python",
   "nbconvert_exporter": "python",
   "pygments_lexer": "ipython3",
   "version": "3.8.10"
  }
 },
 "nbformat": 4,
 "nbformat_minor": 2
}
