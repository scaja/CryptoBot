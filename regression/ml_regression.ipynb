{
 "cells": [
  {
   "cell_type": "markdown",
   "metadata": {},
   "source": [
    "## Setup PySpark"
   ]
  },
  {
   "cell_type": "code",
   "execution_count": 64,
   "metadata": {},
   "outputs": [],
   "source": [
    "from pyspark.sql import SparkSession\n",
    "from pyspark.sql.functions import col, to_timestamp, unix_timestamp, lag\n",
    "from pyspark.sql.window import Window\n",
    "from pyspark.ml.feature import VectorAssembler, MinMaxScaler\n",
    "from pyspark.ml.regression import LinearRegression"
   ]
  },
  {
   "cell_type": "markdown",
   "metadata": {},
   "source": [
    "## Init Spark"
   ]
  },
  {
   "cell_type": "code",
   "execution_count": 65,
   "metadata": {},
   "outputs": [],
   "source": [
    "spark = SparkSession.builder.appName(\"BitcoinPricePrediction\").getOrCreate()"
   ]
  },
  {
   "cell_type": "markdown",
   "metadata": {},
   "source": [
    "## Load Data"
   ]
  },
  {
   "cell_type": "code",
   "execution_count": 66,
   "metadata": {},
   "outputs": [
    {
     "data": {
      "text/plain": [
       "Row(price='95146.52000000', symbol='btcusdt', time='2024-12-29T11:42:13.653000')"
      ]
     },
     "execution_count": 66,
     "metadata": {},
     "output_type": "execute_result"
    }
   ],
   "source": [
    "from elasticsearch import Elasticsearch\n",
    "\n",
    "es = Elasticsearch(hosts=[\"http://localhost:9200\"])\n",
    "\n",
    "response = es.search(index=\"historical\", body={\n",
    "    \"query\": {\n",
    "        \"match_all\": {}\n",
    "    },\n",
    "    \"size\": 1000  \n",
    "})\n",
    "\n",
    "data = [hit[\"_source\"] for hit in response[\"hits\"][\"hits\"]]\n",
    "\n",
    "spark = SparkSession.builder.appName(\"BitcoinPricePrediction\").getOrCreate()\n",
    "\n",
    "training_df = spark.createDataFrame(data)\n",
    "\n",
    "training_df.head()"
   ]
  },
  {
   "cell_type": "code",
   "execution_count": 67,
   "metadata": {},
   "outputs": [
    {
     "name": "stdout",
     "output_type": "stream",
     "text": [
      "root\n",
      " |-- price: string (nullable = true)\n",
      " |-- symbol: string (nullable = true)\n",
      " |-- time: string (nullable = true)\n",
      "\n"
     ]
    }
   ],
   "source": [
    "training_df.printSchema()"
   ]
  },
  {
   "cell_type": "markdown",
   "metadata": {},
   "source": [
    "## Convert Data"
   ]
  },
  {
   "cell_type": "code",
   "execution_count": 68,
   "metadata": {},
   "outputs": [
    {
     "data": {
      "text/plain": [
       "[Row(price=95146.52, symbol='btcusdt', time=datetime.datetime(2024, 12, 29, 11, 42, 13, 653000), time_numeric=1735472533),\n",
       " Row(price=95146.52, symbol='btcusdt', time=datetime.datetime(2024, 12, 29, 11, 42, 14, 824000), time_numeric=1735472534)]"
      ]
     },
     "execution_count": 68,
     "metadata": {},
     "output_type": "execute_result"
    }
   ],
   "source": [
    "\n",
    "training_df = training_df.withColumn(\"time\", to_timestamp(col(\"time\")))\n",
    "\n",
    "training_df = training_df.withColumn(\"time_numeric\", unix_timestamp(col(\"time\")))\n",
    "\n",
    "training_df = training_df.withColumn(\"price\", col(\"price\").cast(\"double\"))\n",
    "\n",
    "training_df.head(2)"
   ]
  },
  {
   "cell_type": "code",
   "execution_count": 69,
   "metadata": {},
   "outputs": [
    {
     "name": "stdout",
     "output_type": "stream",
     "text": [
      "root\n",
      " |-- price: double (nullable = true)\n",
      " |-- symbol: string (nullable = true)\n",
      " |-- time: timestamp (nullable = true)\n",
      " |-- time_numeric: long (nullable = true)\n",
      "\n"
     ]
    }
   ],
   "source": [
    "training_df.printSchema()"
   ]
  },
  {
   "cell_type": "markdown",
   "metadata": {},
   "source": [
    "## Feature Engineering\n"
   ]
  },
  {
   "cell_type": "code",
   "execution_count": 70,
   "metadata": {},
   "outputs": [
    {
     "name": "stderr",
     "output_type": "stream",
     "text": [
      "25/01/30 13:13:44 WARN WindowExec: No Partition Defined for Window operation! Moving all data to a single partition, this can cause serious performance degradation.\n",
      "25/01/30 13:13:44 WARN WindowExec: No Partition Defined for Window operation! Moving all data to a single partition, this can cause serious performance degradation.\n",
      "25/01/30 13:13:44 WARN WindowExec: No Partition Defined for Window operation! Moving all data to a single partition, this can cause serious performance degradation.\n",
      "25/01/30 13:13:44 WARN WindowExec: No Partition Defined for Window operation! Moving all data to a single partition, this can cause serious performance degradation.\n",
      "25/01/30 13:13:44 WARN WindowExec: No Partition Defined for Window operation! Moving all data to a single partition, this can cause serious performance degradation.\n"
     ]
    },
    {
     "data": {
      "text/plain": [
       "[Row(price=95146.52, symbol='btcusdt', time=datetime.datetime(2024, 12, 29, 11, 42, 14, 824000), time_numeric=1735472534, prev_price=95146.52),\n",
       " Row(price=95147.64, symbol='btcusdt', time=datetime.datetime(2024, 12, 29, 11, 42, 17, 836000), time_numeric=1735472537, prev_price=95146.52)]"
      ]
     },
     "execution_count": 70,
     "metadata": {},
     "output_type": "execute_result"
    }
   ],
   "source": [
    "window_spec = Window.orderBy(\"time_numeric\")\n",
    "\n",
    "training_df = training_df.withColumn(\"prev_price\", lag(\"price\", 1).over(window_spec))\n",
    "\n",
    "training_df = training_df.na.drop()\n",
    "\n",
    "training_df.head(2)"
   ]
  },
  {
   "cell_type": "code",
   "execution_count": 71,
   "metadata": {},
   "outputs": [
    {
     "name": "stdout",
     "output_type": "stream",
     "text": [
      "root\n",
      " |-- price: double (nullable = true)\n",
      " |-- symbol: string (nullable = true)\n",
      " |-- time: timestamp (nullable = true)\n",
      " |-- time_numeric: long (nullable = true)\n",
      " |-- prev_price: double (nullable = true)\n",
      "\n"
     ]
    }
   ],
   "source": [
    "training_df.printSchema()"
   ]
  },
  {
   "cell_type": "markdown",
   "metadata": {},
   "source": [
    "## Split Data"
   ]
  },
  {
   "cell_type": "markdown",
   "metadata": {},
   "source": [
    "##### For time series models (such as Bitcoin predictions), randomSplit() is not ideal because future values are not randomly distributed. Instead, a rolling split should be used so that the model learns only from past data."
   ]
  },
  {
   "cell_type": "code",
   "execution_count": 72,
   "metadata": {},
   "outputs": [
    {
     "name": "stderr",
     "output_type": "stream",
     "text": [
      "25/01/30 13:13:53 WARN WindowExec: No Partition Defined for Window operation! Moving all data to a single partition, this can cause serious performance degradation.\n",
      "25/01/30 13:13:53 WARN WindowExec: No Partition Defined for Window operation! Moving all data to a single partition, this can cause serious performance degradation.\n",
      "25/01/30 13:13:53 WARN WindowExec: No Partition Defined for Window operation! Moving all data to a single partition, this can cause serious performance degradation.\n",
      "25/01/30 13:13:53 WARN WindowExec: No Partition Defined for Window operation! Moving all data to a single partition, this can cause serious performance degradation.\n",
      "25/01/30 13:13:53 WARN WindowExec: No Partition Defined for Window operation! Moving all data to a single partition, this can cause serious performance degradation.\n",
      "25/01/30 13:13:53 WARN WindowExec: No Partition Defined for Window operation! Moving all data to a single partition, this can cause serious performance degradation.\n",
      "25/01/30 13:13:53 WARN WindowExec: No Partition Defined for Window operation! Moving all data to a single partition, this can cause serious performance degradation.\n",
      "25/01/30 13:13:53 WARN WindowExec: No Partition Defined for Window operation! Moving all data to a single partition, this can cause serious performance degradation.\n",
      "25/01/30 13:13:53 WARN WindowExec: No Partition Defined for Window operation! Moving all data to a single partition, this can cause serious performance degradation.\n",
      "25/01/30 13:13:53 WARN WindowExec: No Partition Defined for Window operation! Moving all data to a single partition, this can cause serious performance degradation.\n",
      "25/01/30 13:13:53 WARN WindowExec: No Partition Defined for Window operation! Moving all data to a single partition, this can cause serious performance degradation.\n",
      "25/01/30 13:13:53 WARN WindowExec: No Partition Defined for Window operation! Moving all data to a single partition, this can cause serious performance degradation.\n",
      "25/01/30 13:13:53 WARN WindowExec: No Partition Defined for Window operation! Moving all data to a single partition, this can cause serious performance degradation.\n",
      "25/01/30 13:13:53 WARN WindowExec: No Partition Defined for Window operation! Moving all data to a single partition, this can cause serious performance degradation.\n",
      "25/01/30 13:13:53 WARN WindowExec: No Partition Defined for Window operation! Moving all data to a single partition, this can cause serious performance degradation.\n",
      "25/01/30 13:13:53 WARN WindowExec: No Partition Defined for Window operation! Moving all data to a single partition, this can cause serious performance degradation.\n",
      "25/01/30 13:13:53 WARN WindowExec: No Partition Defined for Window operation! Moving all data to a single partition, this can cause serious performance degradation.\n",
      "25/01/30 13:13:53 WARN WindowExec: No Partition Defined for Window operation! Moving all data to a single partition, this can cause serious performance degradation.\n",
      "25/01/30 13:13:53 WARN WindowExec: No Partition Defined for Window operation! Moving all data to a single partition, this can cause serious performance degradation.\n",
      "25/01/30 13:13:53 WARN WindowExec: No Partition Defined for Window operation! Moving all data to a single partition, this can cause serious performance degradation.\n"
     ]
    },
    {
     "name": "stdout",
     "output_type": "stream",
     "text": [
      "Train: 799 rows, Test: 199 rows\n"
     ]
    }
   ],
   "source": [
    "training_df = training_df.orderBy(\"time_numeric\")\n",
    "\n",
    "split_index = int(training_df.count() * 0.8)\n",
    "\n",
    "train_data = training_df.limit(split_index)\n",
    "test_data = training_df.subtract(train_data)\n",
    "\n",
    "\n",
    "print(f\"Train: {train_data.count()} rows, Test: {test_data.count()} rows\")"
   ]
  },
  {
   "cell_type": "markdown",
   "metadata": {},
   "source": [
    "## Vectorize"
   ]
  },
  {
   "cell_type": "code",
   "execution_count": 73,
   "metadata": {},
   "outputs": [
    {
     "name": "stderr",
     "output_type": "stream",
     "text": [
      "25/01/30 13:13:55 WARN WindowExec: No Partition Defined for Window operation! Moving all data to a single partition, this can cause serious performance degradation.\n",
      "25/01/30 13:13:55 WARN WindowExec: No Partition Defined for Window operation! Moving all data to a single partition, this can cause serious performance degradation.\n",
      "25/01/30 13:13:55 WARN WindowExec: No Partition Defined for Window operation! Moving all data to a single partition, this can cause serious performance degradation.\n",
      "25/01/30 13:13:55 WARN WindowExec: No Partition Defined for Window operation! Moving all data to a single partition, this can cause serious performance degradation.\n",
      "25/01/30 13:13:55 WARN WindowExec: No Partition Defined for Window operation! Moving all data to a single partition, this can cause serious performance degradation.\n"
     ]
    },
    {
     "name": "stdout",
     "output_type": "stream",
     "text": [
      "+--------+-------+--------------------+------------+----------+--------------------+\n",
      "|   price| symbol|                time|time_numeric|prev_price|independent features|\n",
      "+--------+-------+--------------------+------------+----------+--------------------+\n",
      "|95146.52|btcusdt|2024-12-29 11:42:...|  1735472534|  95146.52|[1.735472534E9,95...|\n",
      "|95147.64|btcusdt|2024-12-29 11:42:...|  1735472537|  95146.52|[1.735472537E9,95...|\n",
      "|95147.64|btcusdt|2024-12-29 11:42:...|  1735472537|  95147.64|[1.735472537E9,95...|\n",
      "|95147.84|btcusdt|2024-12-29 11:42:...|  1735472537|  95147.64|[1.735472537E9,95...|\n",
      "|95147.86|btcusdt|2024-12-29 11:42:...|  1735472539|  95147.84|[1.735472539E9,95...|\n",
      "+--------+-------+--------------------+------------+----------+--------------------+\n",
      "only showing top 5 rows\n",
      "\n",
      "None\n",
      "['price', 'symbol', 'time', 'time_numeric', 'prev_price', 'independent features']\n"
     ]
    }
   ],
   "source": [
    "feature_cols = [\"time_numeric\", \"prev_price\"]\n",
    "featureassembler=VectorAssembler(inputCols=feature_cols,outputCol=\"independent features\")\n",
    "train_data_output=featureassembler.transform(train_data)\n",
    "print(train_data_output.show(5))\n",
    "print(train_data_output.columns)"
   ]
  },
  {
   "cell_type": "markdown",
   "metadata": {},
   "source": [
    "## Prepare Data ML Model"
   ]
  },
  {
   "cell_type": "code",
   "execution_count": 74,
   "metadata": {},
   "outputs": [
    {
     "name": "stderr",
     "output_type": "stream",
     "text": [
      "25/01/30 13:13:58 WARN WindowExec: No Partition Defined for Window operation! Moving all data to a single partition, this can cause serious performance degradation.\n",
      "25/01/30 13:13:58 WARN WindowExec: No Partition Defined for Window operation! Moving all data to a single partition, this can cause serious performance degradation.\n",
      "25/01/30 13:13:58 WARN WindowExec: No Partition Defined for Window operation! Moving all data to a single partition, this can cause serious performance degradation.\n",
      "25/01/30 13:13:58 WARN WindowExec: No Partition Defined for Window operation! Moving all data to a single partition, this can cause serious performance degradation.\n",
      "25/01/30 13:13:58 WARN WindowExec: No Partition Defined for Window operation! Moving all data to a single partition, this can cause serious performance degradation.\n",
      "25/01/30 13:13:58 WARN WindowExec: No Partition Defined for Window operation! Moving all data to a single partition, this can cause serious performance degradation.\n",
      "25/01/30 13:13:58 WARN WindowExec: No Partition Defined for Window operation! Moving all data to a single partition, this can cause serious performance degradation.\n",
      "25/01/30 13:13:58 WARN WindowExec: No Partition Defined for Window operation! Moving all data to a single partition, this can cause serious performance degradation.\n",
      "25/01/30 13:13:58 WARN WindowExec: No Partition Defined for Window operation! Moving all data to a single partition, this can cause serious performance degradation.\n"
     ]
    },
    {
     "name": "stdout",
     "output_type": "stream",
     "text": [
      "+------------------------+------------------------------------------+\n",
      "|independent features    |scaled_features                           |\n",
      "+------------------------+------------------------------------------+\n",
      "|[1.735472534E9,95146.52]|[0.0,0.9994814017329652]                  |\n",
      "|[1.735472537E9,95146.52]|[0.0016233766233766235,0.9994814017329652]|\n",
      "|[1.735472537E9,95147.64]|[0.0016233766233766235,0.9994970533109516]|\n",
      "|[1.735472537E9,95147.64]|[0.0016233766233766235,0.9994970533109516]|\n",
      "|[1.735472539E9,95147.84]|[0.0027056277056277055,0.9994998482355919]|\n",
      "|[1.73547254E9,95147.86] |[0.003246753246753247,0.9995001277280562] |\n",
      "|[1.73547254E9,95147.86] |[0.003246753246753247,0.9995001277280562] |\n",
      "|[1.73547254E9,95147.84] |[0.003246753246753247,0.9994998482355919] |\n",
      "|[1.73547254E9,95147.83] |[0.003246753246753247,0.9994997084893601] |\n",
      "|[1.735472566E9,95147.63]|[0.017316017316017316,0.9994969135647195] |\n",
      "|[1.735472566E9,95147.87]|[0.017316017316017316,0.9995002674742879] |\n",
      "|[1.735472576E9,95147.89]|[0.022727272727272728,0.9995005469667522] |\n",
      "|[1.735472576E9,95147.86]|[0.022727272727272728,0.9995001277280562] |\n",
      "|[1.735472588E9,95147.82]|[0.02922077922077922,0.999499568743128]   |\n",
      "|[1.735472588E9,95147.87]|[0.02922077922077922,0.9995002674742879]  |\n",
      "|[1.735472589E9,95147.89]|[0.02976190476190476,0.9995005469667522]  |\n",
      "|[1.735472592E9,95147.92]|[0.031385281385281384,0.9995009662054483] |\n",
      "|[1.735472594E9,95148.75]|[0.032467532467532464,0.9995125651427059] |\n",
      "|[1.735472594E9,95148.75]|[0.032467532467532464,0.9995125651427059] |\n",
      "|[1.735472594E9,95148.79]|[0.032467532467532464,0.9995131241276342] |\n",
      "+------------------------+------------------------------------------+\n",
      "only showing top 20 rows\n",
      "\n"
     ]
    }
   ],
   "source": [
    "scaler = MinMaxScaler(inputCol=\"independent features\", outputCol=\"scaled_features\")\n",
    "scaler_model = scaler.fit(train_data_output)\n",
    "train_data_output = scaler_model.transform(train_data_output)\n",
    "\n",
    "train_data_output.select(\"independent features\", \"scaled_features\").show(truncate=False)"
   ]
  },
  {
   "cell_type": "code",
   "execution_count": 75,
   "metadata": {},
   "outputs": [
    {
     "name": "stderr",
     "output_type": "stream",
     "text": [
      "25/01/30 13:14:06 WARN WindowExec: No Partition Defined for Window operation! Moving all data to a single partition, this can cause serious performance degradation.\n",
      "25/01/30 13:14:06 WARN WindowExec: No Partition Defined for Window operation! Moving all data to a single partition, this can cause serious performance degradation.\n",
      "25/01/30 13:14:06 WARN WindowExec: No Partition Defined for Window operation! Moving all data to a single partition, this can cause serious performance degradation.\n",
      "25/01/30 13:14:07 WARN WindowExec: No Partition Defined for Window operation! Moving all data to a single partition, this can cause serious performance degradation.\n",
      "25/01/30 13:14:07 WARN WindowExec: No Partition Defined for Window operation! Moving all data to a single partition, this can cause serious performance degradation.\n"
     ]
    },
    {
     "name": "stdout",
     "output_type": "stream",
     "text": [
      "+--------------------+--------+\n",
      "|     scaled_features|   price|\n",
      "+--------------------+--------+\n",
      "|[0.0,0.9994814017...|95146.52|\n",
      "|[0.00162337662337...|95147.64|\n",
      "|[0.00162337662337...|95147.64|\n",
      "|[0.00162337662337...|95147.84|\n",
      "|[0.00270562770562...|95147.86|\n",
      "+--------------------+--------+\n",
      "only showing top 5 rows\n",
      "\n",
      "None\n"
     ]
    }
   ],
   "source": [
    "finalized_data=train_data_output.select(\"scaled_features\",\"price\")\n",
    "print(finalized_data.show(5))"
   ]
  },
  {
   "cell_type": "markdown",
   "metadata": {},
   "source": [
    "## Train Model"
   ]
  },
  {
   "cell_type": "code",
   "execution_count": 76,
   "metadata": {},
   "outputs": [
    {
     "name": "stderr",
     "output_type": "stream",
     "text": [
      "25/01/30 13:14:15 WARN WindowExec: No Partition Defined for Window operation! Moving all data to a single partition, this can cause serious performance degradation.\n",
      "25/01/30 13:14:15 WARN WindowExec: No Partition Defined for Window operation! Moving all data to a single partition, this can cause serious performance degradation.\n",
      "25/01/30 13:14:15 WARN WindowExec: No Partition Defined for Window operation! Moving all data to a single partition, this can cause serious performance degradation.\n",
      "25/01/30 13:14:16 WARN WindowExec: No Partition Defined for Window operation! Moving all data to a single partition, this can cause serious performance degradation.\n",
      "25/01/30 13:14:16 WARN WindowExec: No Partition Defined for Window operation! Moving all data to a single partition, this can cause serious performance degradation.\n",
      "25/01/30 13:14:16 WARN WindowExec: No Partition Defined for Window operation! Moving all data to a single partition, this can cause serious performance degradation.\n",
      "25/01/30 13:14:16 WARN WindowExec: No Partition Defined for Window operation! Moving all data to a single partition, this can cause serious performance degradation.\n",
      "25/01/30 13:14:16 WARN WindowExec: No Partition Defined for Window operation! Moving all data to a single partition, this can cause serious performance degradation.\n",
      "25/01/30 13:14:16 WARN WindowExec: No Partition Defined for Window operation! Moving all data to a single partition, this can cause serious performance degradation.\n",
      "25/01/30 13:14:16 WARN WindowExec: No Partition Defined for Window operation! Moving all data to a single partition, this can cause serious performance degradation.\n",
      "25/01/30 13:14:16 WARN Instrumentation: [14b2c2d9] regParam is zero, which might cause numerical instability and overfitting.\n",
      "25/01/30 13:14:16 WARN WindowExec: No Partition Defined for Window operation! Moving all data to a single partition, this can cause serious performance degradation.\n",
      "25/01/30 13:14:16 WARN WindowExec: No Partition Defined for Window operation! Moving all data to a single partition, this can cause serious performance degradation.\n",
      "25/01/30 13:14:16 WARN WindowExec: No Partition Defined for Window operation! Moving all data to a single partition, this can cause serious performance degradation.\n",
      "25/01/30 13:14:16 WARN WindowExec: No Partition Defined for Window operation! Moving all data to a single partition, this can cause serious performance degradation.\n",
      "25/01/30 13:14:16 WARN WindowExec: No Partition Defined for Window operation! Moving all data to a single partition, this can cause serious performance degradation.\n"
     ]
    }
   ],
   "source": [
    "regressor=LinearRegression(featuresCol=\"scaled_features\",labelCol=\"price\")\n",
    "regressor=regressor.fit(finalized_data)"
   ]
  },
  {
   "cell_type": "code",
   "execution_count": 93,
   "metadata": {},
   "outputs": [
    {
     "name": "stderr",
     "output_type": "stream",
     "text": [
      "25/01/30 13:32:31 WARN WindowExec: No Partition Defined for Window operation! Moving all data to a single partition, this can cause serious performance degradation.\n",
      "25/01/30 13:32:31 WARN WindowExec: No Partition Defined for Window operation! Moving all data to a single partition, this can cause serious performance degradation.\n",
      "25/01/30 13:32:31 WARN WindowExec: No Partition Defined for Window operation! Moving all data to a single partition, this can cause serious performance degradation.\n",
      "25/01/30 13:32:32 WARN WindowExec: No Partition Defined for Window operation! Moving all data to a single partition, this can cause serious performance degradation.\n",
      "25/01/30 13:32:32 WARN WindowExec: No Partition Defined for Window operation! Moving all data to a single partition, this can cause serious performance degradation.\n"
     ]
    },
    {
     "name": "stdout",
     "output_type": "stream",
     "text": [
      "       independent features     price    prediction\n",
      "0  [1735472534.0, 95146.52]  95146.52  95528.546295\n",
      "1  [1735472537.0, 95146.52]  95147.64  95526.715894\n"
     ]
    },
    {
     "data": {
      "image/png": "[encoded data removed]",
      "text/plain": [
       "<Figure size 1000x500 with 1 Axes>"
      ]
     },
     "metadata": {},
     "output_type": "display_data"
    }
   ],
   "source": [
    "import matplotlib.pyplot as plt\n",
    "\n",
    "predictions = regressor.transform(train_data_output)\n",
    "\n",
    "pdf = predictions.select(\"independent features\", \"price\", \"prediction\").toPandas().head(700)\n",
    "\n",
    "print(pdf.head(2))\n",
    "\n",
    "pdf[\"time\"] = pdf[\"independent features\"].apply(lambda x: x[0]) \n",
    "plt.figure(figsize=(10, 5))\n",
    "plt.plot(pdf[\"time\"], pdf[\"price\"], label=\"Actual Price\", marker=\"o\", linestyle=\"dashed\")\n",
    "plt.plot(pdf[\"time\"], pdf[\"prediction\"], label=\"Predicted Price\", marker=\"s\", linestyle=\"solid\")\n",
    "\n",
    "plt.xlabel(\"Time (Unix Timestamp)\")\n",
    "plt.ylabel(\"Bitcoin Price\")\n",
    "plt.title(\"Bitcoin Price Prediction\")\n",
    "plt.legend()\n",
    "plt.grid()\n",
    "plt.show()"
   ]
  },
  {
   "cell_type": "markdown",
   "metadata": {},
   "source": [
    "### price.diff() → Calculates price change\n",
    "### signal.shift(1) → Uses the previous trading signal (avoiding future bias)\n",
    "### .fillna(0) → Handles missing values\n",
    "### Multiplication → Ensures profit is calculated only if a trade was made"
   ]
  },
  {
   "cell_type": "code",
   "execution_count": 100,
   "metadata": {},
   "outputs": [
    {
     "name": "stdout",
     "output_type": "stream",
     "text": [
      "       independent features     price    prediction          time  signal  \\\n",
      "0  [1735472534.0, 95146.52]  95146.52  95528.546295  1.735473e+09    True   \n",
      "1  [1735472537.0, 95146.52]  95147.64  95526.715894  1.735473e+09    True   \n",
      "2  [1735472537.0, 95147.64]  95147.64  95526.954431  1.735473e+09    True   \n",
      "3  [1735472537.0, 95147.64]  95147.84  95526.954431  1.735473e+09    True   \n",
      "4  [1735472539.0, 95147.84]  95147.86  95525.776760  1.735473e+09    True   \n",
      "\n",
      "  profit  \n",
      "0    NaN  \n",
      "1   1.12  \n",
      "2    0.0  \n",
      "3    0.2  \n",
      "4   0.02  \n",
      "25.179999999993015\n"
     ]
    }
   ],
   "source": [
    "\n",
    "pdf[\"signal\"] = pdf[\"prediction\"] > pdf[\"price\"]\n",
    "\n",
    "pdf[\"profit\"] = pdf[\"price\"].diff() * pdf[\"signal\"].shift(1).fillna(0)\n",
    "\n",
    "print(pdf.head(5))\n",
    "\n",
    "total_earnings = pdf[\"profit\"].sum()\n",
    "\n",
    "print(total_earnings)"
   ]
  },
  {
   "cell_type": "markdown",
   "metadata": {},
   "source": []
  },
  {
   "cell_type": "code",
   "execution_count": 61,
   "metadata": {},
   "outputs": [
    {
     "name": "stdout",
     "output_type": "stream",
     "text": [
      "Coefficients: [-1127.5268787138093,15240.47693149623]\n",
      "Intercept: 80295.97304796432\n"
     ]
    }
   ],
   "source": [
    "print(f\"Coefficients: {regressor.coefficients}\")\n",
    "print(f\"Intercept: {regressor.intercept}\")"
   ]
  },
  {
   "cell_type": "code",
   "execution_count": 85,
   "metadata": {},
   "outputs": [],
   "source": [
    "regressor.save(\"regression_model version 1\")"
   ]
  }
 ],
 "metadata": {
  "kernelspec": {
   "display_name": "Python 3 (ipykernel)",
   "language": "python",
   "name": "python3"
  },
  "language_info": {
   "codemirror_mode": {
    "name": "ipython",
    "version": 3
   },
   "file_extension": ".py",
   "mimetype": "text/x-python",
   "name": "python",
   "nbconvert_exporter": "python",
   "pygments_lexer": "ipython3",
   "version": "3.8.10"
  }
 },
 "nbformat": 4,
 "nbformat_minor": 2
}
