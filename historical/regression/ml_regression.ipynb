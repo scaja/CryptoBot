{
 "cells": [
  {
   "cell_type": "markdown",
   "metadata": {},
   "source": [
    "## Setup PySpark"
   ]
  },
  {
   "cell_type": "code",
   "execution_count": 2,
   "metadata": {},
   "outputs": [],
   "source": [
    "from pyspark.sql import SparkSession\n",
    "from pyspark.sql.functions import lag\n",
    "from pyspark.sql.window import Window\n",
    "from pyspark.ml.feature import VectorAssembler, MinMaxScaler\n",
    "from pyspark.ml.regression import LinearRegression"
   ]
  },
  {
   "cell_type": "markdown",
   "metadata": {},
   "source": [
    "## Init Spark"
   ]
  },
  {
   "cell_type": "code",
   "execution_count": 3,
   "metadata": {},
   "outputs": [
    {
     "name": "stderr",
     "output_type": "stream",
     "text": [
      "Setting default log level to \"WARN\".\n",
      "To adjust logging level use sc.setLogLevel(newLevel). For SparkR, use setLogLevel(newLevel).\n",
      "25/02/09 14:57:33 WARN NativeCodeLoader: Unable to load native-hadoop library for your platform... using builtin-java classes where applicable\n"
     ]
    }
   ],
   "source": [
    "spark = SparkSession.builder.appName(\"BitcoinPricePrediction\").getOrCreate()\n",
    "spark.sparkContext.setLogLevel(\"ERROR\")"
   ]
  },
  {
   "cell_type": "markdown",
   "metadata": {},
   "source": [
    "## Load Data"
   ]
  },
  {
   "cell_type": "code",
   "execution_count": 4,
   "metadata": {},
   "outputs": [],
   "source": [
    "from elasticsearch import Elasticsearch\n",
    "\n",
    "es = Elasticsearch(hosts=[\"http://localhost:9200\"])\n",
    "\n",
    "response = es.search(index=\"historical\", body={\n",
    "    \"query\": {\n",
    "        \"match_all\": {}\n",
    "    },\n",
    "    \"size\": 1000  \n",
    "})\n",
    "\n",
    "data = [hit[\"_source\"] for hit in response[\"hits\"][\"hits\"]]\n",
    "\n",
    "spark = SparkSession.builder.appName(\"BitcoinPricePrediction\").getOrCreate()\n",
    "\n",
    "training_df = spark.createDataFrame(data)"
   ]
  },
  {
   "cell_type": "markdown",
   "metadata": {},
   "source": [
    "## Feature Engineering lag \n"
   ]
  },
  {
   "cell_type": "code",
   "execution_count": 5,
   "metadata": {},
   "outputs": [],
   "source": [
    "window_spec = Window.orderBy(\"time_numeric\")\n",
    "\n",
    "training_df = training_df.withColumn(\"BTC_lag_1\", lag(\"BTC_close\", 1).over(window_spec))\n",
    "training_df = training_df.withColumn(\"BTC_lag_3\", lag(\"BTC_close\", 3).over(window_spec))\n",
    "training_df = training_df.withColumn(\"ETH_lag_1\", lag(\"ETH_close\", 1).over(window_spec))\n",
    "training_df = training_df.withColumn(\"ETH_lag_3\", lag(\"ETH_close\", 3).over(window_spec))\n",
    "\n",
    "training_df = training_df.na.drop()"
   ]
  },
  {
   "cell_type": "markdown",
   "metadata": {},
   "source": [
    "## Split Data"
   ]
  },
  {
   "cell_type": "markdown",
   "metadata": {},
   "source": [
    "##### For time series models (such as Bitcoin predictions), randomSplit() is not ideal because future values are not randomly distributed. Instead, a rolling split should be used so that the model learns only from past data."
   ]
  },
  {
   "cell_type": "code",
   "execution_count": 6,
   "metadata": {},
   "outputs": [
    {
     "name": "stderr",
     "output_type": "stream",
     "text": [
      "                                                                                \r"
     ]
    },
    {
     "name": "stdout",
     "output_type": "stream",
     "text": [
      "Train: 797 rows, Test: 200 rows\n"
     ]
    }
   ],
   "source": [
    "training_df = training_df.orderBy(\"time_numeric\")\n",
    "split_index = int(training_df.count() * 0.8)\n",
    "train_data = training_df.limit(split_index)\n",
    "test_data = training_df.subtract(train_data)\n",
    "\n",
    "print(f\"Train: {train_data.count()} rows, Test: {test_data.count()} rows\")"
   ]
  },
  {
   "cell_type": "markdown",
   "metadata": {},
   "source": [
    "## Vectorize features"
   ]
  },
  {
   "cell_type": "code",
   "execution_count": 7,
   "metadata": {},
   "outputs": [
    {
     "name": "stdout",
     "output_type": "stream",
     "text": [
      "+------------------+---------+--------------------+------------------+----------+---------+--------------------+------------------+----------+------------+-------------------+---------+---------+---------+---------+--------------------+\n",
      "|     BTC_ETH_ratio|BTC_close|    BTC_price_change|    BTC_volatility|BTC_volume|ETH_close|    ETH_price_change|    ETH_volatility|ETH_volume|time_numeric|          timestamp|BTC_lag_1|BTC_lag_3|ETH_lag_1|ETH_lag_3|independent_features|\n",
      "+------------------+---------+--------------------+------------------+----------+---------+--------------------+------------------+----------+------------+-------------------+---------+---------+---------+---------+--------------------+\n",
      "| 35.13585382983603| 98054.33|9.387277992560783E-4|  91.9600000000064|   0.23132|  2790.72|0.001112059749894...| 3.099999999999909|     5.402|  1738760760|2025-02-05T13:06:00| 97962.37| 97978.95|  2787.62|  2787.42|[35.1358538298360...|\n",
      "| 35.12933993564892| 98043.88|-1.06573569979007...|  91.9600000000064|   0.15308|  2790.94|7.883270267172726E-5|3.3200000000001637|     4.064|  1738760820|2025-02-05T13:07:00| 98054.33| 97975.35|  2790.72|  2787.82|[35.1293399356489...|\n",
      "| 35.12678054004491| 98073.62|3.033335686020155...|29.739999999990687|   0.35267|  2791.99|3.762173317949369E-4|1.2699999999999818|    4.8242|  1738760880|2025-02-05T13:08:00| 98043.88| 97962.37|  2790.94|  2787.62|[35.1267805400449...|\n",
      "|  35.0703706485545|  98053.6|-2.04132365053788...|29.739999999990687|   1.14466|  2795.91|0.001404016490030413|   4.9699999999998|    3.9849|  1738760940|2025-02-05T13:09:00| 98073.62| 98054.33|  2791.99|  2790.72|[35.0703706485545...|\n",
      "|35.120722841564465| 98165.23|0.001138458965300515| 111.6299999999901|   0.16775|  2795.08|-2.96862202288306...|3.9200000000000728|    1.7194|  1738761000|2025-02-05T13:10:00|  98053.6| 98043.88|  2795.91|  2790.94|[35.1207228415644...|\n",
      "+------------------+---------+--------------------+------------------+----------+---------+--------------------+------------------+----------+------------+-------------------+---------+---------+---------+---------+--------------------+\n",
      "only showing top 5 rows\n",
      "\n",
      "None\n"
     ]
    }
   ],
   "source": [
    "feature_cols = [\"BTC_ETH_ratio\",  \"BTC_price_change\" , \"BTC_volatility\", \"BTC_volume\", \"ETH_close\", \"ETH_price_change\", \"ETH_volatility\", \"ETH_volume\", \"BTC_lag_1\", \"BTC_lag_3\", \"ETH_lag_1\", \"ETH_lag_3\"]\n",
    "featureassembler = VectorAssembler(inputCols=feature_cols,outputCol=\"independent_features\")\n",
    "train_data = featureassembler.transform(train_data)\n",
    "test_data = featureassembler.transform(test_data)\n",
    "print(train_data.show(5))"
   ]
  },
  {
   "cell_type": "markdown",
   "metadata": {},
   "source": [
    "## Normalize Features"
   ]
  },
  {
   "cell_type": "code",
   "execution_count": 8,
   "metadata": {},
   "outputs": [
    {
     "name": "stdout",
     "output_type": "stream",
     "text": [
      "+-----------------+---------+----------------------+----------------+----------+---------+---------------------+------------------+----------+------------+-------------------+---------+---------+---------+---------+-----------------------------------------------------------------------------------------------------------------------------------------------------------+----------------------------------------------------------------------------------------------------------------------------------------------------------------------------------------------------------------------------------------+\n",
      "|BTC_ETH_ratio    |BTC_close|BTC_price_change      |BTC_volatility  |BTC_volume|ETH_close|ETH_price_change     |ETH_volatility    |ETH_volume|time_numeric|timestamp          |BTC_lag_1|BTC_lag_3|ETH_lag_1|ETH_lag_3|independent_features                                                                                                                                       |scaled_features                                                                                                                                                                                                                         |\n",
      "+-----------------+---------+----------------------+----------------+----------+---------+---------------------+------------------+----------+------------+-------------------+---------+---------+---------+---------+-----------------------------------------------------------------------------------------------------------------------------------------------------------+----------------------------------------------------------------------------------------------------------------------------------------------------------------------------------------------------------------------------------------+\n",
      "|35.13585382983603|98054.33 |9.387277992560783E-4  |91.9600000000064|0.23132   |2790.72  |0.0011120597498941454|3.099999999999909 |5.402     |1738760760  |2025-02-05T13:06:00|97962.37 |97978.95 |2787.62  |2787.42  |[35.13585382983603,9.387277992560783E-4,91.9600000000064,0.23132,2790.72,0.0011120597498941454,3.099999999999909,5.402,97962.37,97978.95,2787.62,2787.42]  |[0.942626517398456,0.17371735661733903,0.001176216733921464,0.12454126604854293,0.824020517297828,0.4937205484667808,0.020263623844184505,0.3405661685563164,0.9789001869442198,0.9791096149959578,0.8071046600458368,0.806013314416677]|\n",
      "|35.12933993564892|98043.88 |-1.0657356997900713E-4|91.9600000000064|0.15308   |2790.94  |7.883270267172726E-5 |3.3200000000001637|4.064     |1738760820  |2025-02-05T13:07:00|98054.33 |97975.35 |2790.72  |2787.82  |[35.12933993564892,-1.0657356997900713E-4,91.9600000000064,0.15308,2790.94,7.883270267172726E-5,3.3200000000001637,4.064,98054.33,97975.35,2790.72,2787.82]|[0.9424052864944922,0.17348802963869375,0.001176216733921464,0.07981684939807247,0.8252209974899062,0.4843977831280593,0.0217063413994357,0.2522137626371014,0.9800617673807598,0.9790641420776071,0.824020517297828,0.808196005674999] |\n",
      "+-----------------+---------+----------------------+----------------+----------+---------+---------------------+------------------+----------+------------+-------------------+---------+---------+---------+---------+-----------------------------------------------------------------------------------------------------------------------------------------------------------+----------------------------------------------------------------------------------------------------------------------------------------------------------------------------------------------------------------------------------------+\n",
      "only showing top 2 rows\n",
      "\n",
      "+-----------------+---------+---------------------+------------------+----------+---------+----------------------+-----------------+----------+------------+-------------------+---------+---------+---------+---------+------------------------------------------------------------------------------------------------------------------------------------------------------------+-------------------------------------------------------------------------------------------------------------------------------------------------------------------------------------------------------------------------------------------+\n",
      "|BTC_ETH_ratio    |BTC_close|BTC_price_change     |BTC_volatility    |BTC_volume|ETH_close|ETH_price_change      |ETH_volatility   |ETH_volume|time_numeric|timestamp          |BTC_lag_1|BTC_lag_3|ETH_lag_1|ETH_lag_3|independent_features                                                                                                                                        |scaled_features                                                                                                                                                                                                                            |\n",
      "+-----------------+---------+---------------------+------------------+----------+---------+----------------------+-----------------+----------+------------+-------------------+---------+---------+---------+---------+------------------------------------------------------------------------------------------------------------------------------------------------------------+-------------------------------------------------------------------------------------------------------------------------------------------------------------------------------------------------------------------------------------------+\n",
      "|34.69260130439431|97343.97 |-2.244114002224462E-4|34.830000000001746|0.05306   |2805.9   |4.3142022826048176E-4 |1.949999999999818|4.4936    |1738808580  |2025-02-06T02:23:00|97365.82 |97378.29 |2804.69  |2803.48  |[34.69260130439431,-2.244114002224462E-4,34.830000000001746,0.05306,2805.9,4.3142022826048176E-4,1.949999999999818,4.4936,97365.82,97378.29,2804.69,2803.48]|[0.9275723648330336,0.1734621773874912,4.454940065515854E-4,0.02264230756039283,0.906853650551131,0.48757916593376593,0.012722145714470475,0.280581620322374,0.971364945432498,0.9715224585691187,0.9002510094947083,0.8936483684382854]   |\n",
      "|34.73355783549443|97263.34 |-8.282998936657293E-4|102.48000000001048|0.1448    |2800.27  |-0.0020064863323711046|5.630000000000109|4.1356    |1738808640  |2025-02-06T02:24:00|97343.97 |97378.8  |2805.9   |2806.64  |[34.73355783549443,-8.282998936657293E-4,102.48000000001048,0.1448,2800.27,-0.0020064863323711046,5.630000000000109,4.1356,97343.97,97378.8,2805.9,2806.64] |[0.9289633684536385,0.17332969126653514,0.0013107730632043884,0.07508374395500121,0.8761322710902552,0.4655820348640782,0.03685487572955537,0.25694173891798017,0.9710889500808406,0.9715289005658851,0.906853650551131,0.9108916293790247]|\n",
      "+-----------------+---------+---------------------+------------------+----------+---------+----------------------+-----------------+----------+------------+-------------------+---------+---------+---------+---------+------------------------------------------------------------------------------------------------------------------------------------------------------------+-------------------------------------------------------------------------------------------------------------------------------------------------------------------------------------------------------------------------------------------+\n",
      "only showing top 2 rows\n",
      "\n"
     ]
    }
   ],
   "source": [
    "scaler = MinMaxScaler(inputCol=\"independent_features\", outputCol=\"scaled_features\")\n",
    "scaler_model = scaler.fit(train_data)\n",
    "\n",
    "train_data = scaler_model.transform(train_data)\n",
    "test_data = scaler_model.transform(test_data)\n",
    "\n",
    "train_data.show(2, truncate=False)\n",
    "test_data.show(2, truncate=False)"
   ]
  },
  {
   "cell_type": "code",
   "execution_count": 9,
   "metadata": {},
   "outputs": [
    {
     "name": "stdout",
     "output_type": "stream",
     "text": [
      "+--------------------+---------+\n",
      "|     scaled_features|BTC_close|\n",
      "+--------------------+---------+\n",
      "|[0.94262651739845...| 98054.33|\n",
      "|[0.94240528649449...| 98043.88|\n",
      "|[0.94231836193188...| 98073.62|\n",
      "|[0.94040251698131...|  98053.6|\n",
      "|[0.94211262476878...| 98165.23|\n",
      "+--------------------+---------+\n",
      "only showing top 5 rows\n",
      "\n",
      "None\n"
     ]
    }
   ],
   "source": [
    "finalized_train_data_output = train_data.select(\"scaled_features\",\"BTC_close\")\n",
    "print(finalized_train_data_output.show(5))"
   ]
  },
  {
   "cell_type": "markdown",
   "metadata": {},
   "source": [
    "## Train Model"
   ]
  },
  {
   "cell_type": "code",
   "execution_count": 10,
   "metadata": {},
   "outputs": [],
   "source": [
    "from pyspark.ml.regression import LinearRegression\n",
    "\n",
    "regressor = LinearRegression(featuresCol=\"scaled_features\", labelCol=\"BTC_close\")\n",
    "regressor = regressor.fit(finalized_train_data_output)\n"
   ]
  },
  {
   "cell_type": "code",
   "execution_count": 12,
   "metadata": {},
   "outputs": [
    {
     "name": "stdout",
     "output_type": "stream",
     "text": [
      "Modell erfolgreich mit joblib gespeichert!\n"
     ]
    }
   ],
   "source": [
    "from sklearn.linear_model import LinearRegression as SklearnLR\n",
    "import joblib\n",
    "import numpy as np\n",
    "\n",
    "coefficients = regressor.coefficients.toArray()  \n",
    "intercept = regressor.intercept                  \n",
    "\n",
    "sklearn_model = SklearnLR()\n",
    "sklearn_model.coef_ = np.array(coefficients)  \n",
    "sklearn_model.intercept_ = intercept          \n",
    "\n",
    "joblib.dump(sklearn_model, \"regression/crypto_model.joblib\")\n",
    "print(\"Modell erfolgreich mit joblib gespeichert!\")"
   ]
  },
  {
   "cell_type": "code",
   "execution_count": 11,
   "metadata": {},
   "outputs": [],
   "source": [
    "predictions = regressor.transform(test_data)"
   ]
  },
  {
   "cell_type": "code",
   "execution_count": 12,
   "metadata": {},
   "outputs": [
    {
     "name": "stdout",
     "output_type": "stream",
     "text": [
      "+------------------+---------+--------------------+------------------+----------+---------+--------------------+------------------+----------+------------+-------------------+---------+---------+---------+---------+--------------------+--------------------+------------------+\n",
      "|     BTC_ETH_ratio|BTC_close|    BTC_price_change|    BTC_volatility|BTC_volume|ETH_close|    ETH_price_change|    ETH_volatility|ETH_volume|time_numeric|          timestamp|BTC_lag_1|BTC_lag_3|ETH_lag_1|ETH_lag_3|independent_features|     scaled_features|        prediction|\n",
      "+------------------+---------+--------------------+------------------+----------+---------+--------------------+------------------+----------+------------+-------------------+---------+---------+---------+---------+--------------------+--------------------+------------------+\n",
      "| 31.20574822646554|102712.16|                 0.0|12.839999999996508|     0.001|  3291.45|-0.00733764001230...|25.550000000000182|    0.0824|  1737354660|2025-01-20T06:31:00|102712.16|102519.55|  3315.78|  3311.23|[31.2057482264655...|[0.79574034973732...|102729.51400667884|\n",
      "|31.189749662218578| 102725.0|1.250095412266283...|12.839999999996508|    9.0E-4|  3293.55|6.380166795789677E-4|24.330000000000382|    0.1915|  1737354720|2025-01-20T06:32:00|102712.16| 102725.0|  3291.45|  3290.23|[31.1897496622185...|[0.79518886072487...|102725.14122989001|\n",
      "|31.189749662218578| 102725.0|                 0.0|12.839999999996508|   0.00119|  3293.55|                 0.0| 2.100000000000364|       0.0|  1737354780|2025-01-20T06:33:00| 102725.0|102712.16|  3293.55|  3315.78|[31.1897496622185...|[0.79518886072487...|102765.10045304128|\n",
      "|31.178484493465344| 102725.0|                 0.0|               0.0|     0.002|  3294.74|3.613122618451037E-4|1.1899999999995998|    0.2766|  1737354840|2025-01-20T06:34:00| 102725.0|102712.16|  3293.55|  3291.45|[31.1784844934653...|[0.79480053732942...|102753.18675261576|\n",
      "| 33.39314680631812| 102725.0|                 0.0|               0.0|       0.0|  3076.23| -0.0663208629512495|218.50999999999976|    0.1424|  1737354900|2025-01-20T06:35:00| 102725.0| 102725.0|  3294.74|  3293.55|[33.3931468063181...|[0.87114250858168...|103663.70784198085|\n",
      "| 30.69636978730124|101080.69|-0.01600691165733...|1644.3099999999977|   0.06997|  3292.92| 0.07044011663627225|218.50999999999976|    0.2023|  1737354960|2025-01-20T06:36:00| 102725.0| 102725.0|  3076.23|  3293.55|[30.6963697873012...|[0.77818148582677...|101272.21535980582|\n",
      "| 31.17990402447649| 102725.0| 0.01626730090584072|1644.3099999999977|   0.01328|  3294.59|5.071486704808503E-4|218.36000000000013|      0.02|  1737355020|2025-01-20T06:37:00|101080.69| 102725.0|  3292.92|  3294.74|[31.1799040244764...|[0.79484947020510...|101223.67508311082|\n",
      "| 31.17990402447649| 102725.0|                 0.0|1644.3099999999977|   0.00253|  3294.59|                 0.0|1.6700000000000728|       0.0|  1737355080|2025-01-20T06:38:00| 102725.0| 102725.0|  3294.59|  3076.23|[31.1799040244764...|[0.79484947020510...|102405.15771519886|\n",
      "|31.112100479439817| 102725.0|                 0.0|               0.0|   0.20292|  3301.77|0.002179330356736342| 7.179999999999836|      0.04|  1737355140|2025-01-20T06:39:00| 102725.0|101080.69|  3294.59|  3292.92|[31.1121004794398...|[0.79251220359071...|102749.26788439686|\n",
      "| 31.06904563813212|102694.07|-3.01095156972408...|30.929999999993015|   0.14139|  3305.35|0.001084266923498...|10.759999999999764|    0.0875|  1737355200|2025-01-20T06:40:00| 102725.0| 102725.0|  3301.77|  3294.59|[31.0690456381321...|[0.79102805341652...|102688.58349036975|\n",
      "+------------------+---------+--------------------+------------------+----------+---------+--------------------+------------------+----------+------------+-------------------+---------+---------+---------+---------+--------------------+--------------------+------------------+\n",
      "only showing top 10 rows\n",
      "\n"
     ]
    }
   ],
   "source": [
    "predictions.show(10)"
   ]
  },
  {
   "cell_type": "code",
   "execution_count": 13,
   "metadata": {},
   "outputs": [
    {
     "name": "stdout",
     "output_type": "stream",
     "text": [
      "MAE: 540.9364086765158\n",
      "RMSE: 696.6081724404379\n",
      "R²: 0.9025110387098105\n"
     ]
    }
   ],
   "source": [
    "from pyspark.ml.evaluation import RegressionEvaluator\n",
    "\n",
    "# Mean Absolute Error (MAE)\n",
    "evaluator_mae = RegressionEvaluator(labelCol=\"BTC_close\", predictionCol=\"prediction\", metricName=\"mae\")\n",
    "mae = evaluator_mae.evaluate(predictions)\n",
    "\n",
    "# Root Mean Squared Error (RMSE)\n",
    "evaluator_rmse = RegressionEvaluator(labelCol=\"BTC_close\", predictionCol=\"prediction\", metricName=\"rmse\")\n",
    "rmse = evaluator_rmse.evaluate(predictions)\n",
    "\n",
    "# R-squared (R²)\n",
    "evaluator_r2 = RegressionEvaluator(labelCol=\"BTC_close\", predictionCol=\"prediction\", metricName=\"r2\")\n",
    "r2 = evaluator_r2.evaluate(predictions)\n",
    "\n",
    "# Display results\n",
    "print(f\"MAE: {mae}\")\n",
    "print(f\"RMSE: {rmse}\")\n",
    "print(f\"R²: {r2}\")"
   ]
  },
  {
   "cell_type": "code",
   "execution_count": 16,
   "metadata": {},
   "outputs": [
    {
     "name": "stdout",
     "output_type": "stream",
     "text": [
      "             timestamp  BTC_close     prediction\n",
      "0  2025-01-19T17:14:00  104601.45  104299.210540\n",
      "1  2025-01-19T17:15:00  104452.30  104164.944952\n"
     ]
    },
    {
     "data": {
      "image/png": "[encoded data removed]",
      "text/plain": [
       "<Figure size 1000x500 with 1 Axes>"
      ]
     },
     "metadata": {},
     "output_type": "display_data"
    }
   ],
   "source": [
    "import matplotlib.pyplot as plt\n",
    "\n",
    "predictions = regressor.transform(train_data)\n",
    "\n",
    "pdf = predictions.select(\"timestamp\", \"BTC_close\", \"prediction\").toPandas().head(700)\n",
    "\n",
    "print(pdf.head(2))\n",
    "\n",
    "plt.figure(figsize=(10, 5))\n",
    "plt.plot(pdf[\"timestamp\"], pdf[\"BTC_close\"], label=\"Actual Price\", marker=\"o\", linestyle=\"dashed\")\n",
    "plt.plot(pdf[\"timestamp\"], pdf[\"prediction\"], label=\"Predicted Price\", marker=\"s\", linestyle=\"solid\")\n",
    "\n",
    "plt.xlabel(\"Time (Unix Timestamp)\")\n",
    "plt.ylabel(\"Bitcoin Price\")\n",
    "plt.title(\"Bitcoin Price Prediction\")\n",
    "plt.legend()\n",
    "plt.grid()\n",
    "plt.show()"
   ]
  },
  {
   "cell_type": "code",
   "execution_count": 17,
   "metadata": {},
   "outputs": [
    {
     "name": "stdout",
     "output_type": "stream",
     "text": [
      "             timestamp  BTC_close     prediction  signal profit\n",
      "0  2025-01-19T17:14:00  104601.45  104299.210540   False    NaN\n",
      "1  2025-01-19T17:15:00  104452.30  104164.944952   False   -0.0\n",
      "2  2025-01-19T17:16:00  104452.30  104070.486469   False    0.0\n",
      "3  2025-01-19T17:17:00  104345.07  104081.462301   False   -0.0\n",
      "4  2025-01-19T17:18:00  104601.45  104080.022204   False    0.0\n",
      "29330.129999999932\n"
     ]
    }
   ],
   "source": [
    "pdf[\"signal\"] = pdf[\"prediction\"] > pdf[\"BTC_close\"]\n",
    "\n",
    "pdf[\"profit\"] = pdf[\"BTC_close\"].diff() * pdf[\"signal\"].shift(1).fillna(0)\n",
    "\n",
    "print(pdf.head(5))\n",
    "\n",
    "total_earnings = pdf[\"profit\"].sum()\n",
    "\n",
    "print(total_earnings)"
   ]
  },
  {
   "cell_type": "code",
   "execution_count": null,
   "metadata": {},
   "outputs": [
    {
     "name": "stderr",
     "output_type": "stream",
     "text": [
      "                                                                                \r"
     ]
    }
   ],
   "source": [
    "#regressor.write().overwrite().save(\"regression/crypto_model\")"
   ]
  },
  {
   "cell_type": "code",
   "execution_count": 13,
   "metadata": {},
   "outputs": [],
   "source": [
    "spark.stop()"
   ]
  },
  {
   "cell_type": "code",
   "execution_count": null,
   "metadata": {},
   "outputs": [],
   "source": []
  }
 ],
 "metadata": {
  "kernelspec": {
   "display_name": "Python 3 (ipykernel)",
   "language": "python",
   "name": "python3"
  },
  "language_info": {
   "codemirror_mode": {
    "name": "ipython",
    "version": 3
   },
   "file_extension": ".py",
   "mimetype": "text/x-python",
   "name": "python",
   "nbconvert_exporter": "python",
   "pygments_lexer": "ipython3",
   "version": "3.13.2"
  }
 },
 "nbformat": 4,
 "nbformat_minor": 2
}
